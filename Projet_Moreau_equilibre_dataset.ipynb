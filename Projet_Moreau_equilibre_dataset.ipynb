{
  "nbformat": 4,
  "nbformat_minor": 0,
  "metadata": {
    "colab": {
      "provenance": [],
      "authorship_tag": "ABX9TyPaSLCy1GFn1V7i687yNsgT",
      "include_colab_link": true
    },
    "kernelspec": {
      "name": "python3",
      "display_name": "Python 3"
    },
    "language_info": {
      "name": "python"
    }
  },
  "cells": [
    {
      "cell_type": "markdown",
      "metadata": {
        "id": "view-in-github",
        "colab_type": "text"
      },
      "source": [
        "<a href=\"https://colab.research.google.com/github/TheoKoess/Financement/blob/maxime-garnier/Projet_Moreau_equilibre_dataset.ipynb\" target=\"_parent\"><img src=\"https://colab.research.google.com/assets/colab-badge.svg\" alt=\"Open In Colab\"/></a>"
      ]
    },
    {
      "cell_type": "code",
      "execution_count": 1,
      "metadata": {
        "id": "eSppXsZc6Rts"
      },
      "outputs": [],
      "source": [
        "import pandas as pd\n",
        "import numpy as np\n",
        "import seaborn as sns\n",
        "import matplotlib.pyplot as plt # plotting & dataviz\n",
        "\n",
        "# Ceci est un test\n",
        "# Ceci est le test deucième du nom "
      ]
    },
    {
      "cell_type": "code",
      "source": [
        "from google.colab import drive\n",
        "drive.mount('/content/drive')"
      ],
      "metadata": {
        "colab": {
          "base_uri": "https://localhost:8080/"
        },
        "id": "2ZjymugI_i92",
        "outputId": "52847d02-d166-41a8-fd52-27c3e32f6211"
      },
      "execution_count": 2,
      "outputs": [
        {
          "output_type": "stream",
          "name": "stdout",
          "text": [
            "Mounted at /content/drive\n"
          ]
        }
      ]
    },
    {
      "cell_type": "code",
      "source": [
        "financement_df = pd.read_csv(\"/content/drive/MyDrive/financement.csv\", sep=\";\")"
      ],
      "metadata": {
        "id": "t7QmD0w9_i_8"
      },
      "execution_count": 3,
      "outputs": []
    },
    {
      "cell_type": "markdown",
      "source": [
        "## Préparation des données\n"
      ],
      "metadata": {
        "id": "nQi3WReQ_qK9"
      }
    },
    {
      "cell_type": "markdown",
      "source": [
        "Feature engineering"
      ],
      "metadata": {
        "id": "WygooggB_yAa"
      }
    },
    {
      "cell_type": "code",
      "source": [
        "def resume_table(df):\n",
        "    print(\"Format de la base : {}\".format(df.shape))\n",
        "    summary = pd.DataFrame(df.dtypes, columns=[\"dtypes\"]).reset_index()\n",
        "    summary[\"name\"] = summary[\"index\"]\n",
        "    summary = summary[[\"name\", \"dtypes\"]] # Correction : les colonnes doivent être spécifiées entre crochets\n",
        "    summary[\"Missing\"] = df.isnull().sum().values\n",
        "    summary[\"Miss_percent\"] = round((summary[\"Missing\"] / len(df))*100, 2) # Correction : le calcul du pourcentage de valeurs manquantes doit être corrigé\n",
        "    summary[\"Uniques\"] = df.nunique().values\n",
        "    summary[\"First Value\"] = df.iloc[0].values\n",
        "    summary[\"Second value\"] = df.iloc[1].values\n",
        "    summary[\"Third value\"] = df.iloc[2].values\n",
        "    return summary"
      ],
      "metadata": {
        "id": "puTPisvCzuyY"
      },
      "execution_count": 6,
      "outputs": []
    },
    {
      "cell_type": "code",
      "source": [
        "resume_table(financement_df)"
      ],
      "metadata": {
        "colab": {
          "base_uri": "https://localhost:8080/",
          "height": 537
        },
        "id": "EWGkqfFMzwxB",
        "outputId": "a4fb64d9-f8b0-4570-b5cc-d70f21da8c19"
      },
      "execution_count": 7,
      "outputs": [
        {
          "output_type": "stream",
          "name": "stdout",
          "text": [
            "Format de la base : (378657, 15)\n"
          ]
        },
        {
          "output_type": "execute_result",
          "data": {
            "text/plain": [
              "                    name   dtypes  Missing  Miss_percent  Uniques  \\\n",
              "0                     ID    int64        0          0.00   378657   \n",
              "1                    nom   object        4          0.00   375688   \n",
              "2              categorie   object      870          0.23      159   \n",
              "3   categorie_principale   object      870          0.23       15   \n",
              "4                 monaie   object      870          0.23       14   \n",
              "5           date_butoire   object      870          0.23     3164   \n",
              "6               objectif  float64      870          0.23     8332   \n",
              "7              lancement   object      870          0.23   346287   \n",
              "8               promesse  float64      870          0.23    62072   \n",
              "9                   etat   object      870          0.23        3   \n",
              "10            supporters  float64      870          0.23     3963   \n",
              "11                  pays   object      870          0.23       23   \n",
              "12         promesse_usd1  float64     4658          1.23    95322   \n",
              "13         promesse_usd2  float64      870          0.23   105916   \n",
              "14          objectif_usd  float64      870          0.23    50276   \n",
              "\n",
              "                        First Value  \\\n",
              "0                        1000002330   \n",
              "1   The Songs of Adelaide & Abullah   \n",
              "2                            Poetry   \n",
              "3                        Publishing   \n",
              "4                               GBP   \n",
              "5                        09/10/2015   \n",
              "6                            1000.0   \n",
              "7                  11/08/2015 12:12   \n",
              "8                               0.0   \n",
              "9                                 0   \n",
              "10                              0.0   \n",
              "11                               GB   \n",
              "12                              0.0   \n",
              "13                              0.0   \n",
              "14                          1533.95   \n",
              "\n",
              "                                     Second value       Third value  \n",
              "0                                      1000003930        1000004038  \n",
              "1   Greeting From Earth: ZGAC Arts Capsule For ET    Where is Hank?  \n",
              "2                                  Narrative Film    Narrative Film  \n",
              "3                                    Film & Video      Film & Video  \n",
              "4                                             USD               USD  \n",
              "5                                      01/11/2017        26/02/2013  \n",
              "6                                         30000.0           45000.0  \n",
              "7                                02/09/2017 04:43  12/01/2013 00:20  \n",
              "8                                          2421.0             220.0  \n",
              "9                                               0                 0  \n",
              "10                                           15.0               3.0  \n",
              "11                                             US                US  \n",
              "12                                          100.0             220.0  \n",
              "13                                         2421.0             220.0  \n",
              "14                                        30000.0           45000.0  "
            ],
            "text/html": [
              "\n",
              "  <div id=\"df-9e6fbb17-16f4-4208-8b4e-12a703a4e6af\">\n",
              "    <div class=\"colab-df-container\">\n",
              "      <div>\n",
              "<style scoped>\n",
              "    .dataframe tbody tr th:only-of-type {\n",
              "        vertical-align: middle;\n",
              "    }\n",
              "\n",
              "    .dataframe tbody tr th {\n",
              "        vertical-align: top;\n",
              "    }\n",
              "\n",
              "    .dataframe thead th {\n",
              "        text-align: right;\n",
              "    }\n",
              "</style>\n",
              "<table border=\"1\" class=\"dataframe\">\n",
              "  <thead>\n",
              "    <tr style=\"text-align: right;\">\n",
              "      <th></th>\n",
              "      <th>name</th>\n",
              "      <th>dtypes</th>\n",
              "      <th>Missing</th>\n",
              "      <th>Miss_percent</th>\n",
              "      <th>Uniques</th>\n",
              "      <th>First Value</th>\n",
              "      <th>Second value</th>\n",
              "      <th>Third value</th>\n",
              "    </tr>\n",
              "  </thead>\n",
              "  <tbody>\n",
              "    <tr>\n",
              "      <th>0</th>\n",
              "      <td>ID</td>\n",
              "      <td>int64</td>\n",
              "      <td>0</td>\n",
              "      <td>0.00</td>\n",
              "      <td>378657</td>\n",
              "      <td>1000002330</td>\n",
              "      <td>1000003930</td>\n",
              "      <td>1000004038</td>\n",
              "    </tr>\n",
              "    <tr>\n",
              "      <th>1</th>\n",
              "      <td>nom</td>\n",
              "      <td>object</td>\n",
              "      <td>4</td>\n",
              "      <td>0.00</td>\n",
              "      <td>375688</td>\n",
              "      <td>The Songs of Adelaide &amp; Abullah</td>\n",
              "      <td>Greeting From Earth: ZGAC Arts Capsule For ET</td>\n",
              "      <td>Where is Hank?</td>\n",
              "    </tr>\n",
              "    <tr>\n",
              "      <th>2</th>\n",
              "      <td>categorie</td>\n",
              "      <td>object</td>\n",
              "      <td>870</td>\n",
              "      <td>0.23</td>\n",
              "      <td>159</td>\n",
              "      <td>Poetry</td>\n",
              "      <td>Narrative Film</td>\n",
              "      <td>Narrative Film</td>\n",
              "    </tr>\n",
              "    <tr>\n",
              "      <th>3</th>\n",
              "      <td>categorie_principale</td>\n",
              "      <td>object</td>\n",
              "      <td>870</td>\n",
              "      <td>0.23</td>\n",
              "      <td>15</td>\n",
              "      <td>Publishing</td>\n",
              "      <td>Film &amp; Video</td>\n",
              "      <td>Film &amp; Video</td>\n",
              "    </tr>\n",
              "    <tr>\n",
              "      <th>4</th>\n",
              "      <td>monaie</td>\n",
              "      <td>object</td>\n",
              "      <td>870</td>\n",
              "      <td>0.23</td>\n",
              "      <td>14</td>\n",
              "      <td>GBP</td>\n",
              "      <td>USD</td>\n",
              "      <td>USD</td>\n",
              "    </tr>\n",
              "    <tr>\n",
              "      <th>5</th>\n",
              "      <td>date_butoire</td>\n",
              "      <td>object</td>\n",
              "      <td>870</td>\n",
              "      <td>0.23</td>\n",
              "      <td>3164</td>\n",
              "      <td>09/10/2015</td>\n",
              "      <td>01/11/2017</td>\n",
              "      <td>26/02/2013</td>\n",
              "    </tr>\n",
              "    <tr>\n",
              "      <th>6</th>\n",
              "      <td>objectif</td>\n",
              "      <td>float64</td>\n",
              "      <td>870</td>\n",
              "      <td>0.23</td>\n",
              "      <td>8332</td>\n",
              "      <td>1000.0</td>\n",
              "      <td>30000.0</td>\n",
              "      <td>45000.0</td>\n",
              "    </tr>\n",
              "    <tr>\n",
              "      <th>7</th>\n",
              "      <td>lancement</td>\n",
              "      <td>object</td>\n",
              "      <td>870</td>\n",
              "      <td>0.23</td>\n",
              "      <td>346287</td>\n",
              "      <td>11/08/2015 12:12</td>\n",
              "      <td>02/09/2017 04:43</td>\n",
              "      <td>12/01/2013 00:20</td>\n",
              "    </tr>\n",
              "    <tr>\n",
              "      <th>8</th>\n",
              "      <td>promesse</td>\n",
              "      <td>float64</td>\n",
              "      <td>870</td>\n",
              "      <td>0.23</td>\n",
              "      <td>62072</td>\n",
              "      <td>0.0</td>\n",
              "      <td>2421.0</td>\n",
              "      <td>220.0</td>\n",
              "    </tr>\n",
              "    <tr>\n",
              "      <th>9</th>\n",
              "      <td>etat</td>\n",
              "      <td>object</td>\n",
              "      <td>870</td>\n",
              "      <td>0.23</td>\n",
              "      <td>3</td>\n",
              "      <td>0</td>\n",
              "      <td>0</td>\n",
              "      <td>0</td>\n",
              "    </tr>\n",
              "    <tr>\n",
              "      <th>10</th>\n",
              "      <td>supporters</td>\n",
              "      <td>float64</td>\n",
              "      <td>870</td>\n",
              "      <td>0.23</td>\n",
              "      <td>3963</td>\n",
              "      <td>0.0</td>\n",
              "      <td>15.0</td>\n",
              "      <td>3.0</td>\n",
              "    </tr>\n",
              "    <tr>\n",
              "      <th>11</th>\n",
              "      <td>pays</td>\n",
              "      <td>object</td>\n",
              "      <td>870</td>\n",
              "      <td>0.23</td>\n",
              "      <td>23</td>\n",
              "      <td>GB</td>\n",
              "      <td>US</td>\n",
              "      <td>US</td>\n",
              "    </tr>\n",
              "    <tr>\n",
              "      <th>12</th>\n",
              "      <td>promesse_usd1</td>\n",
              "      <td>float64</td>\n",
              "      <td>4658</td>\n",
              "      <td>1.23</td>\n",
              "      <td>95322</td>\n",
              "      <td>0.0</td>\n",
              "      <td>100.0</td>\n",
              "      <td>220.0</td>\n",
              "    </tr>\n",
              "    <tr>\n",
              "      <th>13</th>\n",
              "      <td>promesse_usd2</td>\n",
              "      <td>float64</td>\n",
              "      <td>870</td>\n",
              "      <td>0.23</td>\n",
              "      <td>105916</td>\n",
              "      <td>0.0</td>\n",
              "      <td>2421.0</td>\n",
              "      <td>220.0</td>\n",
              "    </tr>\n",
              "    <tr>\n",
              "      <th>14</th>\n",
              "      <td>objectif_usd</td>\n",
              "      <td>float64</td>\n",
              "      <td>870</td>\n",
              "      <td>0.23</td>\n",
              "      <td>50276</td>\n",
              "      <td>1533.95</td>\n",
              "      <td>30000.0</td>\n",
              "      <td>45000.0</td>\n",
              "    </tr>\n",
              "  </tbody>\n",
              "</table>\n",
              "</div>\n",
              "      <button class=\"colab-df-convert\" onclick=\"convertToInteractive('df-9e6fbb17-16f4-4208-8b4e-12a703a4e6af')\"\n",
              "              title=\"Convert this dataframe to an interactive table.\"\n",
              "              style=\"display:none;\">\n",
              "        \n",
              "  <svg xmlns=\"http://www.w3.org/2000/svg\" height=\"24px\"viewBox=\"0 0 24 24\"\n",
              "       width=\"24px\">\n",
              "    <path d=\"M0 0h24v24H0V0z\" fill=\"none\"/>\n",
              "    <path d=\"M18.56 5.44l.94 2.06.94-2.06 2.06-.94-2.06-.94-.94-2.06-.94 2.06-2.06.94zm-11 1L8.5 8.5l.94-2.06 2.06-.94-2.06-.94L8.5 2.5l-.94 2.06-2.06.94zm10 10l.94 2.06.94-2.06 2.06-.94-2.06-.94-.94-2.06-.94 2.06-2.06.94z\"/><path d=\"M17.41 7.96l-1.37-1.37c-.4-.4-.92-.59-1.43-.59-.52 0-1.04.2-1.43.59L10.3 9.45l-7.72 7.72c-.78.78-.78 2.05 0 2.83L4 21.41c.39.39.9.59 1.41.59.51 0 1.02-.2 1.41-.59l7.78-7.78 2.81-2.81c.8-.78.8-2.07 0-2.86zM5.41 20L4 18.59l7.72-7.72 1.47 1.35L5.41 20z\"/>\n",
              "  </svg>\n",
              "      </button>\n",
              "      \n",
              "  <style>\n",
              "    .colab-df-container {\n",
              "      display:flex;\n",
              "      flex-wrap:wrap;\n",
              "      gap: 12px;\n",
              "    }\n",
              "\n",
              "    .colab-df-convert {\n",
              "      background-color: #E8F0FE;\n",
              "      border: none;\n",
              "      border-radius: 50%;\n",
              "      cursor: pointer;\n",
              "      display: none;\n",
              "      fill: #1967D2;\n",
              "      height: 32px;\n",
              "      padding: 0 0 0 0;\n",
              "      width: 32px;\n",
              "    }\n",
              "\n",
              "    .colab-df-convert:hover {\n",
              "      background-color: #E2EBFA;\n",
              "      box-shadow: 0px 1px 2px rgba(60, 64, 67, 0.3), 0px 1px 3px 1px rgba(60, 64, 67, 0.15);\n",
              "      fill: #174EA6;\n",
              "    }\n",
              "\n",
              "    [theme=dark] .colab-df-convert {\n",
              "      background-color: #3B4455;\n",
              "      fill: #D2E3FC;\n",
              "    }\n",
              "\n",
              "    [theme=dark] .colab-df-convert:hover {\n",
              "      background-color: #434B5C;\n",
              "      box-shadow: 0px 1px 3px 1px rgba(0, 0, 0, 0.15);\n",
              "      filter: drop-shadow(0px 1px 2px rgba(0, 0, 0, 0.3));\n",
              "      fill: #FFFFFF;\n",
              "    }\n",
              "  </style>\n",
              "\n",
              "      <script>\n",
              "        const buttonEl =\n",
              "          document.querySelector('#df-9e6fbb17-16f4-4208-8b4e-12a703a4e6af button.colab-df-convert');\n",
              "        buttonEl.style.display =\n",
              "          google.colab.kernel.accessAllowed ? 'block' : 'none';\n",
              "\n",
              "        async function convertToInteractive(key) {\n",
              "          const element = document.querySelector('#df-9e6fbb17-16f4-4208-8b4e-12a703a4e6af');\n",
              "          const dataTable =\n",
              "            await google.colab.kernel.invokeFunction('convertToInteractive',\n",
              "                                                     [key], {});\n",
              "          if (!dataTable) return;\n",
              "\n",
              "          const docLinkHtml = 'Like what you see? Visit the ' +\n",
              "            '<a target=\"_blank\" href=https://colab.research.google.com/notebooks/data_table.ipynb>data table notebook</a>'\n",
              "            + ' to learn more about interactive tables.';\n",
              "          element.innerHTML = '';\n",
              "          dataTable['output_type'] = 'display_data';\n",
              "          await google.colab.output.renderOutput(dataTable, element);\n",
              "          const docLink = document.createElement('div');\n",
              "          docLink.innerHTML = docLinkHtml;\n",
              "          element.appendChild(docLink);\n",
              "        }\n",
              "      </script>\n",
              "    </div>\n",
              "  </div>\n",
              "  "
            ]
          },
          "metadata": {},
          "execution_count": 7
        }
      ]
    },
    {
      "cell_type": "code",
      "source": [
        "financement_df['etat'] = financement_df['etat'].replace(\"successful\",1)\n",
        "financement_df['etat'] = financement_df['etat'].replace(\"live\",1)\n",
        "financement_df['etat'] = financement_df['etat'].replace(\"failed\",0)\n",
        "financement_df['etat'] = financement_df['etat'].replace(\"canceled\",0)\n",
        "financement_df['etat'] = financement_df['etat'].replace(\"suspended\",0)\n",
        "financement_df = financement_df.dropna(subset=['etat'])\n",
        "financement_df = financement_df[financement_df['etat'] != 'undefined']\n",
        "financement_df['etat'] = financement_df['etat'].astype(int)\n"
      ],
      "metadata": {
        "id": "gTwtZgm0_jNs"
      },
      "execution_count": 11,
      "outputs": []
    },
    {
      "cell_type": "code",
      "source": [
        "# Créer un graphique seaborn de comptage de fréquences\n",
        "sns.countplot(x='etat', data=financement_df)"
      ],
      "metadata": {
        "colab": {
          "base_uri": "https://localhost:8080/",
          "height": 466
        },
        "id": "G-DNWsAW17zb",
        "outputId": "5523cf0b-0b6a-445d-b9b2-1b38e9296d43"
      },
      "execution_count": 14,
      "outputs": [
        {
          "output_type": "execute_result",
          "data": {
            "text/plain": [
              "<Axes: xlabel='etat', ylabel='count'>"
            ]
          },
          "metadata": {},
          "execution_count": 14
        },
        {
          "output_type": "display_data",
          "data": {
            "text/plain": [
              "<Figure size 640x480 with 1 Axes>"
            ],
            "image/png": "[encoded data removed]"
          },
          "metadata": {}
        }
      ]
    }
  ]
}