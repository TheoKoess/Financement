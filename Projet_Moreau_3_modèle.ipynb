{
  "nbformat": 4,
  "nbformat_minor": 0,
  "metadata": {
    "colab": {
      "provenance": [],
      "authorship_tag": "ABX9TyNWYrHYIk8F31aiisvh0HWj",
      "include_colab_link": true
    },
    "kernelspec": {
      "name": "python3",
      "display_name": "Python 3"
    },
    "language_info": {
      "name": "python"
    }
  },
  "cells": [
    {
      "cell_type": "markdown",
      "metadata": {
        "id": "view-in-github",
        "colab_type": "text"
      },
      "source": [
        "<a href=\"https://colab.research.google.com/github/TheoKoess/Financement/blob/maxime-garnier/Projet_Moreau_3_mod%C3%A8le.ipynb\" target=\"_parent\"><img src=\"https://colab.research.google.com/assets/colab-badge.svg\" alt=\"Open In Colab\"/></a>"
      ]
    },
    {
      "cell_type": "code",
      "execution_count": 10,
      "metadata": {
        "id": "eSppXsZc6Rts"
      },
      "outputs": [],
      "source": [
        "import pandas as pd\n",
        "import numpy as np\n",
        "import seaborn as sns\n",
        "import matplotlib.pyplot as plt # plotting & dataviz\n",
        "\n",
        "# Ceci est un test\n",
        "# Ceci est le test deucième du nom "
      ]
    },
    {
      "cell_type": "code",
      "source": [
        "from google.colab import drive\n",
        "drive.mount('/content/drive')"
      ],
      "metadata": {
        "colab": {
          "base_uri": "https://localhost:8080/"
        },
        "id": "2ZjymugI_i92",
        "outputId": "521ec9a5-b167-4e8d-9df2-1eab94da3ba1"
      },
      "execution_count": 11,
      "outputs": [
        {
          "output_type": "stream",
          "name": "stdout",
          "text": [
            "Drive already mounted at /content/drive; to attempt to forcibly remount, call drive.mount(\"/content/drive\", force_remount=True).\n"
          ]
        }
      ]
    },
    {
      "cell_type": "code",
      "source": [
        "financement_df = pd.read_csv(\"/content/drive/MyDrive/financement.csv\", sep=\";\")"
      ],
      "metadata": {
        "id": "t7QmD0w9_i_8"
      },
      "execution_count": 16,
      "outputs": []
    },
    {
      "cell_type": "code",
      "source": [
        "financement_df = financement_df.dropna()"
      ],
      "metadata": {
        "id": "yFv_GFznMZZg"
      },
      "execution_count": 17,
      "outputs": []
    },
    {
      "cell_type": "markdown",
      "source": [
        "## Préparation des données\n"
      ],
      "metadata": {
        "id": "nQi3WReQ_qK9"
      }
    },
    {
      "cell_type": "code",
      "source": [
        "# Conversion de la variable 'lancement' en type datetime puis on garde juste la date\n",
        "financement_df[\"lancement\"] = pd.to_datetime(financement_df[\"lancement\"])\n",
        "\n",
        "# Conversion de la variable 'date_butoire' en date\n",
        "financement_df[\"date_butoire\"] = pd.to_datetime(financement_df[\"date_butoire\"])"
      ],
      "metadata": {
        "colab": {
          "base_uri": "https://localhost:8080/"
        },
        "id": "DxkcGQEh_jHE",
        "outputId": "dcc85a21-d93b-41be-c365-a6cbd8be6a32"
      },
      "execution_count": 18,
      "outputs": [
        {
          "output_type": "stream",
          "name": "stderr",
          "text": [
            "<ipython-input-18-537a18c9089a>:5: UserWarning: Parsing dates in DD/MM/YYYY format when dayfirst=False (the default) was specified. This may lead to inconsistently parsed dates! Specify a format to ensure consistent parsing.\n",
            "  financement_df[\"date_butoire\"] = pd.to_datetime(financement_df[\"date_butoire\"])\n"
          ]
        }
      ]
    },
    {
      "cell_type": "code",
      "source": [
        "financement_df[\"day_lancement\"] = financement_df[\"lancement\"].dt.day.astype(int)\n",
        "financement_df[\"month_lancement\"] = financement_df[\"lancement\"].dt.month.astype(int)\n",
        "financement_df[\"year_lancement\"] = financement_df[\"lancement\"].dt.year.astype(int)\n",
        "\n",
        "financement_df[\"day_date_butoire\"] = financement_df[\"date_butoire\"].dt.day.astype(int)\n",
        "financement_df[\"month_date_butoire\"] = financement_df[\"date_butoire\"].dt.month.astype(int)\n",
        "financement_df[\"year_date_butoire\"] = financement_df[\"date_butoire\"].dt.year.astype(int)\n",
        "\n",
        "financement_df['ecart'] = (financement_df['date_butoire'] - financement_df['lancement']) / np.timedelta64(1, 'D')"
      ],
      "metadata": {
        "id": "jiZ5TXDU_jJU"
      },
      "execution_count": 19,
      "outputs": []
    },
    {
      "cell_type": "code",
      "source": [
        "def resume_table(df):\n",
        "    print(\"Format de la base : {}\".format(df.shape))\n",
        "    summary = pd.DataFrame(df.dtypes, columns=[\"dtypes\"]).reset_index()\n",
        "    summary[\"name\"] = summary[\"index\"]\n",
        "    summary = summary[[\"name\", \"dtypes\"]] # Correction : les colonnes doivent être spécifiées entre crochets\n",
        "    summary[\"Missing\"] = df.isnull().sum().values\n",
        "    summary[\"Miss_percent\"] = round((summary[\"Missing\"] / len(df))*100, 2) # Correction : le calcul du pourcentage de valeurs manquantes doit être corrigé\n",
        "    summary[\"Uniques\"] = df.nunique().values\n",
        "    summary[\"First Value\"] = df.iloc[0].values\n",
        "    summary[\"Second value\"] = df.iloc[1].values\n",
        "    summary[\"Third value\"] = df.iloc[2].values\n",
        "    return summary"
      ],
      "metadata": {
        "id": "dWS8uHAXAz7v"
      },
      "execution_count": 20,
      "outputs": []
    },
    {
      "cell_type": "code",
      "source": [
        "resume_table(financement_df)"
      ],
      "metadata": {
        "colab": {
          "base_uri": "https://localhost:8080/",
          "height": 757
        },
        "id": "Roeg8jOy_jLc",
        "outputId": "a1bcde1a-5623-48dc-dc92-cabcd17b208a"
      },
      "execution_count": 21,
      "outputs": [
        {
          "output_type": "stream",
          "name": "stdout",
          "text": [
            "Format de la base : (373995, 22)\n"
          ]
        },
        {
          "output_type": "execute_result",
          "data": {
            "text/plain": [
              "                    name          dtypes  Missing  Miss_percent  Uniques  \\\n",
              "0                     ID           int64        0           0.0   373995   \n",
              "1                    nom          object        0           0.0   371167   \n",
              "2              categorie          object        0           0.0      159   \n",
              "3   categorie_principale          object        0           0.0       15   \n",
              "4                 monaie          object        0           0.0       14   \n",
              "5           date_butoire  datetime64[ns]        0           0.0     3164   \n",
              "6               objectif         float64        0           0.0     8292   \n",
              "7              lancement  datetime64[ns]        0           0.0   343189   \n",
              "8               promesse         float64        0           0.0    61878   \n",
              "9                   etat          object        0           0.0        5   \n",
              "10            supporters         float64        0           0.0     3963   \n",
              "11                  pays          object        0           0.0       22   \n",
              "12         promesse_usd1         float64        0           0.0    95321   \n",
              "13         promesse_usd2         float64        0           0.0   105235   \n",
              "14          objectif_usd         float64        0           0.0    49970   \n",
              "15         day_lancement           int64        0           0.0       31   \n",
              "16       month_lancement           int64        0           0.0       12   \n",
              "17        year_lancement           int64        0           0.0       11   \n",
              "18      day_date_butoire           int64        0           0.0       31   \n",
              "19    month_date_butoire           int64        0           0.0       12   \n",
              "20     year_date_butoire           int64        0           0.0       10   \n",
              "21                 ecart         float64        0           0.0   141353   \n",
              "\n",
              "                        First Value  \\\n",
              "0                        1000002330   \n",
              "1   The Songs of Adelaide & Abullah   \n",
              "2                            Poetry   \n",
              "3                        Publishing   \n",
              "4                               GBP   \n",
              "5               2015-09-10 00:00:00   \n",
              "6                            1000.0   \n",
              "7               2015-11-08 12:12:00   \n",
              "8                               0.0   \n",
              "9                            failed   \n",
              "10                              0.0   \n",
              "11                               GB   \n",
              "12                              0.0   \n",
              "13                              0.0   \n",
              "14                          1533.95   \n",
              "15                                8   \n",
              "16                               11   \n",
              "17                             2015   \n",
              "18                               10   \n",
              "19                                9   \n",
              "20                             2015   \n",
              "21                       -59.508333   \n",
              "\n",
              "                                     Second value          Third value  \n",
              "0                                      1000003930           1000004038  \n",
              "1   Greeting From Earth: ZGAC Arts Capsule For ET       Where is Hank?  \n",
              "2                                  Narrative Film       Narrative Film  \n",
              "3                                    Film & Video         Film & Video  \n",
              "4                                             USD                  USD  \n",
              "5                             2017-01-11 00:00:00  2013-02-26 00:00:00  \n",
              "6                                         30000.0              45000.0  \n",
              "7                             2017-02-09 04:43:00  2013-12-01 00:20:00  \n",
              "8                                          2421.0                220.0  \n",
              "9                                          failed               failed  \n",
              "10                                           15.0                  3.0  \n",
              "11                                             US                   US  \n",
              "12                                          100.0                220.0  \n",
              "13                                         2421.0                220.0  \n",
              "14                                        30000.0              45000.0  \n",
              "15                                              9                    1  \n",
              "16                                              2                   12  \n",
              "17                                           2017                 2013  \n",
              "18                                             11                   26  \n",
              "19                                              1                    2  \n",
              "20                                           2017                 2013  \n",
              "21                                     -29.196528          -278.013889  "
            ],
            "text/html": [
              "\n",
              "  <div id=\"df-a21f891b-cd5a-479c-acab-f8b7dbc784d4\">\n",
              "    <div class=\"colab-df-container\">\n",
              "      <div>\n",
              "<style scoped>\n",
              "    .dataframe tbody tr th:only-of-type {\n",
              "        vertical-align: middle;\n",
              "    }\n",
              "\n",
              "    .dataframe tbody tr th {\n",
              "        vertical-align: top;\n",
              "    }\n",
              "\n",
              "    .dataframe thead th {\n",
              "        text-align: right;\n",
              "    }\n",
              "</style>\n",
              "<table border=\"1\" class=\"dataframe\">\n",
              "  <thead>\n",
              "    <tr style=\"text-align: right;\">\n",
              "      <th></th>\n",
              "      <th>name</th>\n",
              "      <th>dtypes</th>\n",
              "      <th>Missing</th>\n",
              "      <th>Miss_percent</th>\n",
              "      <th>Uniques</th>\n",
              "      <th>First Value</th>\n",
              "      <th>Second value</th>\n",
              "      <th>Third value</th>\n",
              "    </tr>\n",
              "  </thead>\n",
              "  <tbody>\n",
              "    <tr>\n",
              "      <th>0</th>\n",
              "      <td>ID</td>\n",
              "      <td>int64</td>\n",
              "      <td>0</td>\n",
              "      <td>0.0</td>\n",
              "      <td>373995</td>\n",
              "      <td>1000002330</td>\n",
              "      <td>1000003930</td>\n",
              "      <td>1000004038</td>\n",
              "    </tr>\n",
              "    <tr>\n",
              "      <th>1</th>\n",
              "      <td>nom</td>\n",
              "      <td>object</td>\n",
              "      <td>0</td>\n",
              "      <td>0.0</td>\n",
              "      <td>371167</td>\n",
              "      <td>The Songs of Adelaide &amp; Abullah</td>\n",
              "      <td>Greeting From Earth: ZGAC Arts Capsule For ET</td>\n",
              "      <td>Where is Hank?</td>\n",
              "    </tr>\n",
              "    <tr>\n",
              "      <th>2</th>\n",
              "      <td>categorie</td>\n",
              "      <td>object</td>\n",
              "      <td>0</td>\n",
              "      <td>0.0</td>\n",
              "      <td>159</td>\n",
              "      <td>Poetry</td>\n",
              "      <td>Narrative Film</td>\n",
              "      <td>Narrative Film</td>\n",
              "    </tr>\n",
              "    <tr>\n",
              "      <th>3</th>\n",
              "      <td>categorie_principale</td>\n",
              "      <td>object</td>\n",
              "      <td>0</td>\n",
              "      <td>0.0</td>\n",
              "      <td>15</td>\n",
              "      <td>Publishing</td>\n",
              "      <td>Film &amp; Video</td>\n",
              "      <td>Film &amp; Video</td>\n",
              "    </tr>\n",
              "    <tr>\n",
              "      <th>4</th>\n",
              "      <td>monaie</td>\n",
              "      <td>object</td>\n",
              "      <td>0</td>\n",
              "      <td>0.0</td>\n",
              "      <td>14</td>\n",
              "      <td>GBP</td>\n",
              "      <td>USD</td>\n",
              "      <td>USD</td>\n",
              "    </tr>\n",
              "    <tr>\n",
              "      <th>5</th>\n",
              "      <td>date_butoire</td>\n",
              "      <td>datetime64[ns]</td>\n",
              "      <td>0</td>\n",
              "      <td>0.0</td>\n",
              "      <td>3164</td>\n",
              "      <td>2015-09-10 00:00:00</td>\n",
              "      <td>2017-01-11 00:00:00</td>\n",
              "      <td>2013-02-26 00:00:00</td>\n",
              "    </tr>\n",
              "    <tr>\n",
              "      <th>6</th>\n",
              "      <td>objectif</td>\n",
              "      <td>float64</td>\n",
              "      <td>0</td>\n",
              "      <td>0.0</td>\n",
              "      <td>8292</td>\n",
              "      <td>1000.0</td>\n",
              "      <td>30000.0</td>\n",
              "      <td>45000.0</td>\n",
              "    </tr>\n",
              "    <tr>\n",
              "      <th>7</th>\n",
              "      <td>lancement</td>\n",
              "      <td>datetime64[ns]</td>\n",
              "      <td>0</td>\n",
              "      <td>0.0</td>\n",
              "      <td>343189</td>\n",
              "      <td>2015-11-08 12:12:00</td>\n",
              "      <td>2017-02-09 04:43:00</td>\n",
              "      <td>2013-12-01 00:20:00</td>\n",
              "    </tr>\n",
              "    <tr>\n",
              "      <th>8</th>\n",
              "      <td>promesse</td>\n",
              "      <td>float64</td>\n",
              "      <td>0</td>\n",
              "      <td>0.0</td>\n",
              "      <td>61878</td>\n",
              "      <td>0.0</td>\n",
              "      <td>2421.0</td>\n",
              "      <td>220.0</td>\n",
              "    </tr>\n",
              "    <tr>\n",
              "      <th>9</th>\n",
              "      <td>etat</td>\n",
              "      <td>object</td>\n",
              "      <td>0</td>\n",
              "      <td>0.0</td>\n",
              "      <td>5</td>\n",
              "      <td>failed</td>\n",
              "      <td>failed</td>\n",
              "      <td>failed</td>\n",
              "    </tr>\n",
              "    <tr>\n",
              "      <th>10</th>\n",
              "      <td>supporters</td>\n",
              "      <td>float64</td>\n",
              "      <td>0</td>\n",
              "      <td>0.0</td>\n",
              "      <td>3963</td>\n",
              "      <td>0.0</td>\n",
              "      <td>15.0</td>\n",
              "      <td>3.0</td>\n",
              "    </tr>\n",
              "    <tr>\n",
              "      <th>11</th>\n",
              "      <td>pays</td>\n",
              "      <td>object</td>\n",
              "      <td>0</td>\n",
              "      <td>0.0</td>\n",
              "      <td>22</td>\n",
              "      <td>GB</td>\n",
              "      <td>US</td>\n",
              "      <td>US</td>\n",
              "    </tr>\n",
              "    <tr>\n",
              "      <th>12</th>\n",
              "      <td>promesse_usd1</td>\n",
              "      <td>float64</td>\n",
              "      <td>0</td>\n",
              "      <td>0.0</td>\n",
              "      <td>95321</td>\n",
              "      <td>0.0</td>\n",
              "      <td>100.0</td>\n",
              "      <td>220.0</td>\n",
              "    </tr>\n",
              "    <tr>\n",
              "      <th>13</th>\n",
              "      <td>promesse_usd2</td>\n",
              "      <td>float64</td>\n",
              "      <td>0</td>\n",
              "      <td>0.0</td>\n",
              "      <td>105235</td>\n",
              "      <td>0.0</td>\n",
              "      <td>2421.0</td>\n",
              "      <td>220.0</td>\n",
              "    </tr>\n",
              "    <tr>\n",
              "      <th>14</th>\n",
              "      <td>objectif_usd</td>\n",
              "      <td>float64</td>\n",
              "      <td>0</td>\n",
              "      <td>0.0</td>\n",
              "      <td>49970</td>\n",
              "      <td>1533.95</td>\n",
              "      <td>30000.0</td>\n",
              "      <td>45000.0</td>\n",
              "    </tr>\n",
              "    <tr>\n",
              "      <th>15</th>\n",
              "      <td>day_lancement</td>\n",
              "      <td>int64</td>\n",
              "      <td>0</td>\n",
              "      <td>0.0</td>\n",
              "      <td>31</td>\n",
              "      <td>8</td>\n",
              "      <td>9</td>\n",
              "      <td>1</td>\n",
              "    </tr>\n",
              "    <tr>\n",
              "      <th>16</th>\n",
              "      <td>month_lancement</td>\n",
              "      <td>int64</td>\n",
              "      <td>0</td>\n",
              "      <td>0.0</td>\n",
              "      <td>12</td>\n",
              "      <td>11</td>\n",
              "      <td>2</td>\n",
              "      <td>12</td>\n",
              "    </tr>\n",
              "    <tr>\n",
              "      <th>17</th>\n",
              "      <td>year_lancement</td>\n",
              "      <td>int64</td>\n",
              "      <td>0</td>\n",
              "      <td>0.0</td>\n",
              "      <td>11</td>\n",
              "      <td>2015</td>\n",
              "      <td>2017</td>\n",
              "      <td>2013</td>\n",
              "    </tr>\n",
              "    <tr>\n",
              "      <th>18</th>\n",
              "      <td>day_date_butoire</td>\n",
              "      <td>int64</td>\n",
              "      <td>0</td>\n",
              "      <td>0.0</td>\n",
              "      <td>31</td>\n",
              "      <td>10</td>\n",
              "      <td>11</td>\n",
              "      <td>26</td>\n",
              "    </tr>\n",
              "    <tr>\n",
              "      <th>19</th>\n",
              "      <td>month_date_butoire</td>\n",
              "      <td>int64</td>\n",
              "      <td>0</td>\n",
              "      <td>0.0</td>\n",
              "      <td>12</td>\n",
              "      <td>9</td>\n",
              "      <td>1</td>\n",
              "      <td>2</td>\n",
              "    </tr>\n",
              "    <tr>\n",
              "      <th>20</th>\n",
              "      <td>year_date_butoire</td>\n",
              "      <td>int64</td>\n",
              "      <td>0</td>\n",
              "      <td>0.0</td>\n",
              "      <td>10</td>\n",
              "      <td>2015</td>\n",
              "      <td>2017</td>\n",
              "      <td>2013</td>\n",
              "    </tr>\n",
              "    <tr>\n",
              "      <th>21</th>\n",
              "      <td>ecart</td>\n",
              "      <td>float64</td>\n",
              "      <td>0</td>\n",
              "      <td>0.0</td>\n",
              "      <td>141353</td>\n",
              "      <td>-59.508333</td>\n",
              "      <td>-29.196528</td>\n",
              "      <td>-278.013889</td>\n",
              "    </tr>\n",
              "  </tbody>\n",
              "</table>\n",
              "</div>\n",
              "      <button class=\"colab-df-convert\" onclick=\"convertToInteractive('df-a21f891b-cd5a-479c-acab-f8b7dbc784d4')\"\n",
              "              title=\"Convert this dataframe to an interactive table.\"\n",
              "              style=\"display:none;\">\n",
              "        \n",
              "  <svg xmlns=\"http://www.w3.org/2000/svg\" height=\"24px\"viewBox=\"0 0 24 24\"\n",
              "       width=\"24px\">\n",
              "    <path d=\"M0 0h24v24H0V0z\" fill=\"none\"/>\n",
              "    <path d=\"M18.56 5.44l.94 2.06.94-2.06 2.06-.94-2.06-.94-.94-2.06-.94 2.06-2.06.94zm-11 1L8.5 8.5l.94-2.06 2.06-.94-2.06-.94L8.5 2.5l-.94 2.06-2.06.94zm10 10l.94 2.06.94-2.06 2.06-.94-2.06-.94-.94-2.06-.94 2.06-2.06.94z\"/><path d=\"M17.41 7.96l-1.37-1.37c-.4-.4-.92-.59-1.43-.59-.52 0-1.04.2-1.43.59L10.3 9.45l-7.72 7.72c-.78.78-.78 2.05 0 2.83L4 21.41c.39.39.9.59 1.41.59.51 0 1.02-.2 1.41-.59l7.78-7.78 2.81-2.81c.8-.78.8-2.07 0-2.86zM5.41 20L4 18.59l7.72-7.72 1.47 1.35L5.41 20z\"/>\n",
              "  </svg>\n",
              "      </button>\n",
              "      \n",
              "  <style>\n",
              "    .colab-df-container {\n",
              "      display:flex;\n",
              "      flex-wrap:wrap;\n",
              "      gap: 12px;\n",
              "    }\n",
              "\n",
              "    .colab-df-convert {\n",
              "      background-color: #E8F0FE;\n",
              "      border: none;\n",
              "      border-radius: 50%;\n",
              "      cursor: pointer;\n",
              "      display: none;\n",
              "      fill: #1967D2;\n",
              "      height: 32px;\n",
              "      padding: 0 0 0 0;\n",
              "      width: 32px;\n",
              "    }\n",
              "\n",
              "    .colab-df-convert:hover {\n",
              "      background-color: #E2EBFA;\n",
              "      box-shadow: 0px 1px 2px rgba(60, 64, 67, 0.3), 0px 1px 3px 1px rgba(60, 64, 67, 0.15);\n",
              "      fill: #174EA6;\n",
              "    }\n",
              "\n",
              "    [theme=dark] .colab-df-convert {\n",
              "      background-color: #3B4455;\n",
              "      fill: #D2E3FC;\n",
              "    }\n",
              "\n",
              "    [theme=dark] .colab-df-convert:hover {\n",
              "      background-color: #434B5C;\n",
              "      box-shadow: 0px 1px 3px 1px rgba(0, 0, 0, 0.15);\n",
              "      filter: drop-shadow(0px 1px 2px rgba(0, 0, 0, 0.3));\n",
              "      fill: #FFFFFF;\n",
              "    }\n",
              "  </style>\n",
              "\n",
              "      <script>\n",
              "        const buttonEl =\n",
              "          document.querySelector('#df-a21f891b-cd5a-479c-acab-f8b7dbc784d4 button.colab-df-convert');\n",
              "        buttonEl.style.display =\n",
              "          google.colab.kernel.accessAllowed ? 'block' : 'none';\n",
              "\n",
              "        async function convertToInteractive(key) {\n",
              "          const element = document.querySelector('#df-a21f891b-cd5a-479c-acab-f8b7dbc784d4');\n",
              "          const dataTable =\n",
              "            await google.colab.kernel.invokeFunction('convertToInteractive',\n",
              "                                                     [key], {});\n",
              "          if (!dataTable) return;\n",
              "\n",
              "          const docLinkHtml = 'Like what you see? Visit the ' +\n",
              "            '<a target=\"_blank\" href=https://colab.research.google.com/notebooks/data_table.ipynb>data table notebook</a>'\n",
              "            + ' to learn more about interactive tables.';\n",
              "          element.innerHTML = '';\n",
              "          dataTable['output_type'] = 'display_data';\n",
              "          await google.colab.output.renderOutput(dataTable, element);\n",
              "          const docLink = document.createElement('div');\n",
              "          docLink.innerHTML = docLinkHtml;\n",
              "          element.appendChild(docLink);\n",
              "        }\n",
              "      </script>\n",
              "    </div>\n",
              "  </div>\n",
              "  "
            ]
          },
          "metadata": {},
          "execution_count": 21
        }
      ]
    },
    {
      "cell_type": "markdown",
      "source": [
        "Feature engineering"
      ],
      "metadata": {
        "id": "WygooggB_yAa"
      }
    },
    {
      "cell_type": "code",
      "source": [
        "financement_df['etat'] = financement_df['etat'].replace(\"successful\",1)\n",
        "financement_df['etat'] = financement_df['etat'].replace(\"live\",1)\n",
        "financement_df['etat'] = financement_df['etat'].replace(\"failed\",0)\n",
        "financement_df['etat'] = financement_df['etat'].replace(\"canceled\",0)\n",
        "financement_df['etat'] = financement_df['etat'].replace(\"suspended\",0)\n",
        "financement_df['etat'] = financement_df['etat'].astype(int)\n"
      ],
      "metadata": {
        "id": "gTwtZgm0_jNs"
      },
      "execution_count": 22,
      "outputs": []
    },
    {
      "cell_type": "code",
      "source": [
        "financement_df_dum = pd.get_dummies(financement_df, columns=['categorie_principale', 'monaie', 'pays'])\n",
        "financement_df_quant = financement_df.select_dtypes(include=['float64'])\n",
        "\n",
        "col_financement_df = list(financement_df.columns)\n",
        "remove_col = ['categorie_principale', 'monaie', 'pays']\n",
        "list_col_to_remove = [x for x in col_financement_df if x not in remove_col]\n",
        "financement_df_dum = financement_df_dum.drop(list_col_to_remove, axis= 1)\n",
        "\n",
        "data = pd.concat([financement_df_dum, financement_df_quant], axis = 1)"
      ],
      "metadata": {
        "id": "ymhSVkXS_4CL"
      },
      "execution_count": 23,
      "outputs": []
    },
    {
      "cell_type": "code",
      "source": [
        "data = data.drop(columns=['promesse'])\n",
        "data = data.drop(columns=['promesse_usd1'])\n",
        "data = data.drop(columns=['promesse_usd2'])\n",
        "\n"
      ],
      "metadata": {
        "id": "RBLS5NQ0Pkmi"
      },
      "execution_count": 36,
      "outputs": []
    },
    {
      "cell_type": "code",
      "source": [
        "from sklearn.model_selection import train_test_split\n",
        "\n",
        "target = financement_df['etat']\n",
        "\n",
        "X_train, X_test, y_train, y_test = train_test_split(data, target, test_size=0.2, random_state=42)"
      ],
      "metadata": {
        "id": "Lf7S4Rx2LdAz"
      },
      "execution_count": 37,
      "outputs": []
    },
    {
      "cell_type": "code",
      "source": [
        "X_train.columns"
      ],
      "metadata": {
        "colab": {
          "base_uri": "https://localhost:8080/"
        },
        "id": "3rp1U1TpPWb1",
        "outputId": "54341eae-fc90-4455-9e34-f3a4efc12729"
      },
      "execution_count": 38,
      "outputs": [
        {
          "output_type": "execute_result",
          "data": {
            "text/plain": [
              "Index(['categorie_principale_Art', 'categorie_principale_Comics',\n",
              "       'categorie_principale_Crafts', 'categorie_principale_Dance',\n",
              "       'categorie_principale_Design', 'categorie_principale_Fashion',\n",
              "       'categorie_principale_Film & Video', 'categorie_principale_Food',\n",
              "       'categorie_principale_Games', 'categorie_principale_Journalism',\n",
              "       'categorie_principale_Music', 'categorie_principale_Photography',\n",
              "       'categorie_principale_Publishing', 'categorie_principale_Technology',\n",
              "       'categorie_principale_Theater', 'monaie_AUD', 'monaie_CAD',\n",
              "       'monaie_CHF', 'monaie_DKK', 'monaie_EUR', 'monaie_GBP', 'monaie_HKD',\n",
              "       'monaie_JPY', 'monaie_MXN', 'monaie_NOK', 'monaie_NZD', 'monaie_SEK',\n",
              "       'monaie_SGD', 'monaie_USD', 'pays_AT', 'pays_AU', 'pays_BE', 'pays_CA',\n",
              "       'pays_CH', 'pays_DE', 'pays_DK', 'pays_ES', 'pays_FR', 'pays_GB',\n",
              "       'pays_HK', 'pays_IE', 'pays_IT', 'pays_JP', 'pays_LU', 'pays_MX',\n",
              "       'pays_NL', 'pays_NO', 'pays_NZ', 'pays_SE', 'pays_SG', 'pays_US',\n",
              "       'objectif', 'supporters', 'objectif_usd', 'ecart'],\n",
              "      dtype='object')"
            ]
          },
          "metadata": {},
          "execution_count": 38
        }
      ]
    },
    {
      "cell_type": "code",
      "source": [
        "from sklearn.preprocessing import StandardScaler\n",
        "\n",
        "#Normalisation des données\n",
        "sc = StandardScaler()\n",
        "X_train = sc.fit_transform(X_train)\n",
        "X_test = sc.transform(X_test)"
      ],
      "metadata": {
        "id": "fySULEzGNJQf"
      },
      "execution_count": 39,
      "outputs": []
    },
    {
      "cell_type": "code",
      "source": [
        "from sklearn.ensemble import RandomForestClassifier\n",
        "from sklearn.datasets import make_classification\n",
        "from sklearn.model_selection import train_test_split\n",
        "from sklearn.metrics import accuracy_score, confusion_matrix, precision_score, recall_score, precision_recall_curve\n",
        "\n",
        "# Créer un classifieur de forêt aléatoire\n",
        "clf = RandomForestClassifier(n_estimators=100, random_state=0)\n",
        "\n",
        "# Entraîner le classifieur avec les données d'entraînement\n",
        "clf.fit(X_train, y_train)\n",
        "\n",
        "# Évaluer le classifieur avec les données de test\n",
        "score = clf.score(X_test, y_test)\n",
        "\n",
        "y_pred = clf.predict(X_test)\n",
        "\n",
        "cm = confusion_matrix(y_test, y_pred)\n",
        "print(cm)\n",
        "\n",
        "sns.heatmap(cm, annot=True)"
      ],
      "metadata": {
        "colab": {
          "base_uri": "https://localhost:8080/",
          "height": 482
        },
        "id": "Wb59Z4CrNxf9",
        "outputId": "649d90b7-e0b1-4622-c36a-215f773f1076"
      },
      "execution_count": 40,
      "outputs": [
        {
          "output_type": "stream",
          "name": "stdout",
          "text": [
            "[[44612  2955]\n",
            " [ 3059 24173]]\n"
          ]
        },
        {
          "output_type": "execute_result",
          "data": {
            "text/plain": [
              "<Axes: >"
            ]
          },
          "metadata": {},
          "execution_count": 40
        },
        {
          "output_type": "display_data",
          "data": {
            "text/plain": [
              "<Figure size 640x480 with 2 Axes>"
            ],
            "image/png": "[encoded data removed]"
          },
          "metadata": {}
        }
      ]
    },
    {
      "cell_type": "code",
      "source": [
        "cm = confusion_matrix(y_test, y_pred)\n",
        "normalized_conf_matrix = cm / np.sum(cm, axis=1, keepdims=True)\n",
        "sns.heatmap(normalized_conf_matrix, annot=cm, cmap='Greens')"
      ],
      "metadata": {
        "colab": {
          "base_uri": "https://localhost:8080/",
          "height": 447
        },
        "id": "lipv-UrQN2K1",
        "outputId": "1024c285-4153-46dd-927a-39123eb1b8b8"
      },
      "execution_count": 41,
      "outputs": [
        {
          "output_type": "execute_result",
          "data": {
            "text/plain": [
              "<Axes: >"
            ]
          },
          "metadata": {},
          "execution_count": 41
        },
        {
          "output_type": "display_data",
          "data": {
            "text/plain": [
              "<Figure size 640x480 with 2 Axes>"
            ],
            "image/png": "[encoded data removed]"
          },
          "metadata": {}
        }
      ]
    },
    {
      "cell_type": "code",
      "source": [
        "from sklearn.metrics import classification_report\n",
        "print(classification_report(y_test, y_pred))"
      ],
      "metadata": {
        "colab": {
          "base_uri": "https://localhost:8080/"
        },
        "id": "o7AU_-BuN4Xt",
        "outputId": "7cddbd41-7c16-4846-ef45-99efd711f2cd"
      },
      "execution_count": 42,
      "outputs": [
        {
          "output_type": "stream",
          "name": "stdout",
          "text": [
            "              precision    recall  f1-score   support\n",
            "\n",
            "           0       0.94      0.94      0.94     47567\n",
            "           1       0.89      0.89      0.89     27232\n",
            "\n",
            "    accuracy                           0.92     74799\n",
            "   macro avg       0.91      0.91      0.91     74799\n",
            "weighted avg       0.92      0.92      0.92     74799\n",
            "\n"
          ]
        }
      ]
    }
  ]
}