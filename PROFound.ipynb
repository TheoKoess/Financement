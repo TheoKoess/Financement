{
  "cells": [
    {
      "cell_type": "markdown",
      "metadata": {
        "id": "view-in-github",
        "colab_type": "text"
      },
      "source": [
        "<a href=\"https://colab.research.google.com/github/TheoKoess/Financement/blob/pierre-vdb/PROFound.ipynb\" target=\"_parent\"><img src=\"https://colab.research.google.com/assets/colab-badge.svg\" alt=\"Open In Colab\"/></a>"
      ]
    },
    {
      "cell_type": "markdown",
      "source": [
        "# Projet : financement_df de projet"
      ],
      "metadata": {
        "collapsed": false,
        "id": "epFfxB1SFt7f"
      }
    },
    {
      "cell_type": "code",
      "execution_count": 16,
      "outputs": [],
      "source": [
        "import pandas as pd\n",
        "import numpy as np\n",
        "import seaborn as sns\n",
        "import matplotlib.pyplot as plt # plotting & dataviz\n",
        "\n",
        "# Ceci est un test\n",
        "# Ceci est le test deucième du nom "
      ],
      "metadata": {
        "id": "boXieipqFt7h"
      }
    },
    {
      "cell_type": "code",
      "execution_count": 19,
      "outputs": [],
      "source": [
        "financement_df = pd.read_csv(\"/content/drive/MyDrive/financement.csv\", sep=\",\", header = 0)\n",
        "financement_df.drop(\"Unnamed: 0\", axis= 1, inplace=True)"
      ],
      "metadata": {
        "id": "uZfPjopxFt7i"
      }
    },
    {
      "cell_type": "code",
      "execution_count": 20,
      "outputs": [],
      "source": [
        "def resume_table(df):\n",
        "    print(\"Format de la base : {}\".format(df.shape))\n",
        "    summary = pd.DataFrame(df.dtypes, columns=[\"dtypes\"]).reset_index()\n",
        "    summary[\"name\"] = summary[\"index\"]\n",
        "    summary = summary[[\"name\", \"dtypes\"]] # Correction : les colonnes doivent être spécifiées entre crochets\n",
        "    summary[\"Missing\"] = df.isnull().sum().values\n",
        "    summary[\"Miss_percent\"] = round((summary[\"Missing\"] / len(df))*100, 2) # Correction : le calcul du pourcentage de valeurs manquantes doit être corrigé\n",
        "    summary[\"Uniques\"] = df.nunique().values\n",
        "    summary[\"First Value\"] = df.iloc[0].values\n",
        "    summary[\"Second value\"] = df.iloc[1].values\n",
        "    summary[\"Third value\"] = df.iloc[2].values\n",
        "    return summary"
      ],
      "metadata": {
        "id": "vEOQRgxeFt7i"
      }
    },
    {
      "cell_type": "code",
      "execution_count": 21,
      "outputs": [],
      "source": [
        "financement_df = financement_df.dropna()"
      ],
      "metadata": {
        "id": "h7lpWlHgFt7i"
      }
    },
    {
      "cell_type": "markdown",
      "source": [
        "## Préparation des données\n",
        "\n"
      ],
      "metadata": {
        "collapsed": false,
        "id": "G2Dx4UtqFt7i"
      }
    },
    {
      "cell_type": "markdown",
      "source": [
        "Séparation des variables de type date 'lancement' et 'date_butoire' en jour mois année\n",
        "ajout d'une nouvelle variable 'écart_date' qui calcule l'écart en jours entre 'lancement' et 'date_butoire'"
      ],
      "metadata": {
        "collapsed": false,
        "id": "39XeowyhFt7j"
      }
    },
    {
      "cell_type": "code",
      "execution_count": 22,
      "outputs": [],
      "source": [
        "# Conversion de la variable 'lancement' en type datetime puis on garde juste la date\n",
        "financement_df[\"lancement\"] = pd.to_datetime(financement_df[\"lancement\"])\n",
        "\n",
        "# Conversion de la variable 'date_butoire' en date\n",
        "financement_df[\"date_butoire\"] = pd.to_datetime(financement_df[\"date_butoire\"])"
      ],
      "metadata": {
        "id": "PeabqMo7Ft7j"
      }
    },
    {
      "cell_type": "code",
      "execution_count": 23,
      "outputs": [],
      "source": [
        "financement_df[\"day_lancement\"] = financement_df[\"lancement\"].dt.day.astype(int)\n",
        "financement_df[\"month_lancement\"] = financement_df[\"lancement\"].dt.month.astype(int)\n",
        "financement_df[\"year_lancement\"] = financement_df[\"lancement\"].dt.year.astype(int)\n",
        "\n",
        "financement_df[\"day_date_butoire\"] = financement_df[\"date_butoire\"].dt.day.astype(int)\n",
        "financement_df[\"month_date_butoire\"] = financement_df[\"date_butoire\"].dt.month.astype(int)\n",
        "financement_df[\"year_date_butoire\"] = financement_df[\"date_butoire\"].dt.year.astype(int)\n",
        "\n",
        "financement_df['ecart'] = (financement_df['date_butoire'] - financement_df['lancement']) / np.timedelta64(1, 'D')"
      ],
      "metadata": {
        "id": "gOzfmtnvFt7j"
      }
    },
    {
      "cell_type": "code",
      "execution_count": null,
      "outputs": [],
      "source": [
        "financement_df"
      ],
      "metadata": {
        "id": "r99jdsTaFt7j"
      }
    },
    {
      "cell_type": "code",
      "execution_count": null,
      "outputs": [],
      "source": [
        "resume_table(financement_df)"
      ],
      "metadata": {
        "id": "DrWceu5FFt7k"
      }
    },
    {
      "cell_type": "markdown",
      "source": [
        "# Feature engineering"
      ],
      "metadata": {
        "collapsed": false,
        "id": "O3LEQB6JFt7k"
      }
    },
    {
      "cell_type": "code",
      "execution_count": 24,
      "outputs": [
        {
          "output_type": "execute_result",
          "data": {
            "text/plain": [
              "                ID                                                nom  \\\n",
              "0       1000002330                    The Songs of Adelaide & Abullah   \n",
              "1       1000003930      Greeting From Earth: ZGAC Arts Capsule For ET   \n",
              "2       1000004038                                     Where is Hank?   \n",
              "3       1000007540  ToshiCapital Rekordz Needs Help to Complete Album   \n",
              "4       1000011046  Community Film Project: The Art of Neighborhoo...   \n",
              "...            ...                                                ...   \n",
              "378656   999976400  ChknTruk Nationwide Charity Drive 2014 (Canceled)   \n",
              "378657   999977640                                          The Tribe   \n",
              "378658   999986353  Walls of Remedy- New lesbian Romantic Comedy f...   \n",
              "378659   999987933                           BioDefense Education Kit   \n",
              "378660   999988282                  Nou Renmen Ayiti!  We Love Haiti!   \n",
              "\n",
              "              categorie categorie_principale monaie date_butoire  objectif  \\\n",
              "0                Poetry           Publishing    GBP   2015-10-09    1000.0   \n",
              "1        Narrative Film         Film & Video    USD   2017-11-01   30000.0   \n",
              "2        Narrative Film         Film & Video    USD   2013-02-26   45000.0   \n",
              "3                 Music                Music    USD   2012-04-16    5000.0   \n",
              "4          Film & Video         Film & Video    USD   2015-08-29   19500.0   \n",
              "...                 ...                  ...    ...          ...       ...   \n",
              "378656      Documentary         Film & Video    USD   2014-10-17   50000.0   \n",
              "378657   Narrative Film         Film & Video    USD   2011-07-19    1500.0   \n",
              "378658   Narrative Film         Film & Video    USD   2010-08-16   15000.0   \n",
              "378659       Technology           Technology    USD   2016-02-13   15000.0   \n",
              "378660  Performance Art                  Art    USD   2011-08-16    2000.0   \n",
              "\n",
              "                 lancement  promesse  etat  ...  promesse_usd1 promesse_usd2  \\\n",
              "0      2015-08-11 12:12:28       0.0     0  ...            0.0           0.0   \n",
              "1      2017-09-02 04:43:57    2421.0     0  ...          100.0        2421.0   \n",
              "2      2013-01-12 00:20:50     220.0     0  ...          220.0         220.0   \n",
              "3      2012-03-17 03:24:11       1.0     0  ...            1.0           1.0   \n",
              "4      2015-07-04 08:35:03    1283.0     0  ...         1283.0        1283.0   \n",
              "...                    ...       ...   ...  ...            ...           ...   \n",
              "378656 2014-09-17 02:35:30      25.0     0  ...           25.0          25.0   \n",
              "378657 2011-06-22 03:35:14     155.0     0  ...          155.0         155.0   \n",
              "378658 2010-07-01 19:40:30      20.0     0  ...           20.0          20.0   \n",
              "378659 2016-01-13 18:13:53     200.0     0  ...          200.0         200.0   \n",
              "378660 2011-07-19 09:07:47     524.0     0  ...          524.0         524.0   \n",
              "\n",
              "        objectif_usd  day_lancement  month_lancement  year_lancement  \\\n",
              "0            1533.95             11                8            2015   \n",
              "1           30000.00              2                9            2017   \n",
              "2           45000.00             12                1            2013   \n",
              "3            5000.00             17                3            2012   \n",
              "4           19500.00              4                7            2015   \n",
              "...              ...            ...              ...             ...   \n",
              "378656      50000.00             17                9            2014   \n",
              "378657       1500.00             22                6            2011   \n",
              "378658      15000.00              1                7            2010   \n",
              "378659      15000.00             13                1            2016   \n",
              "378660       2000.00             19                7            2011   \n",
              "\n",
              "        day_date_butoire  month_date_butoire  year_date_butoire      ecart  \n",
              "0                      9                  10               2015  58.491343  \n",
              "1                      1                  11               2017  59.802813  \n",
              "2                     26                   2               2013  44.985532  \n",
              "3                     16                   4               2012  29.858206  \n",
              "4                     29                   8               2015  55.642326  \n",
              "...                  ...                 ...                ...        ...  \n",
              "378656                17                  10               2014  29.892014  \n",
              "378657                19                   7               2011  26.850532  \n",
              "378658                16                   8               2010  45.180208  \n",
              "378659                13                   2               2016  30.240359  \n",
              "378660                16                   8               2011  27.619595  \n",
              "\n",
              "[374860 rows x 22 columns]"
            ],
            "text/html": [
              "\n",
              "  <div id=\"df-a06ecc66-cc15-4a06-9148-29bdcfb50ce6\">\n",
              "    <div class=\"colab-df-container\">\n",
              "      <div>\n",
              "<style scoped>\n",
              "    .dataframe tbody tr th:only-of-type {\n",
              "        vertical-align: middle;\n",
              "    }\n",
              "\n",
              "    .dataframe tbody tr th {\n",
              "        vertical-align: top;\n",
              "    }\n",
              "\n",
              "    .dataframe thead th {\n",
              "        text-align: right;\n",
              "    }\n",
              "</style>\n",
              "<table border=\"1\" class=\"dataframe\">\n",
              "  <thead>\n",
              "    <tr style=\"text-align: right;\">\n",
              "      <th></th>\n",
              "      <th>ID</th>\n",
              "      <th>nom</th>\n",
              "      <th>categorie</th>\n",
              "      <th>categorie_principale</th>\n",
              "      <th>monaie</th>\n",
              "      <th>date_butoire</th>\n",
              "      <th>objectif</th>\n",
              "      <th>lancement</th>\n",
              "      <th>promesse</th>\n",
              "      <th>etat</th>\n",
              "      <th>...</th>\n",
              "      <th>promesse_usd1</th>\n",
              "      <th>promesse_usd2</th>\n",
              "      <th>objectif_usd</th>\n",
              "      <th>day_lancement</th>\n",
              "      <th>month_lancement</th>\n",
              "      <th>year_lancement</th>\n",
              "      <th>day_date_butoire</th>\n",
              "      <th>month_date_butoire</th>\n",
              "      <th>year_date_butoire</th>\n",
              "      <th>ecart</th>\n",
              "    </tr>\n",
              "  </thead>\n",
              "  <tbody>\n",
              "    <tr>\n",
              "      <th>0</th>\n",
              "      <td>1000002330</td>\n",
              "      <td>The Songs of Adelaide &amp; Abullah</td>\n",
              "      <td>Poetry</td>\n",
              "      <td>Publishing</td>\n",
              "      <td>GBP</td>\n",
              "      <td>2015-10-09</td>\n",
              "      <td>1000.0</td>\n",
              "      <td>2015-08-11 12:12:28</td>\n",
              "      <td>0.0</td>\n",
              "      <td>0</td>\n",
              "      <td>...</td>\n",
              "      <td>0.0</td>\n",
              "      <td>0.0</td>\n",
              "      <td>1533.95</td>\n",
              "      <td>11</td>\n",
              "      <td>8</td>\n",
              "      <td>2015</td>\n",
              "      <td>9</td>\n",
              "      <td>10</td>\n",
              "      <td>2015</td>\n",
              "      <td>58.491343</td>\n",
              "    </tr>\n",
              "    <tr>\n",
              "      <th>1</th>\n",
              "      <td>1000003930</td>\n",
              "      <td>Greeting From Earth: ZGAC Arts Capsule For ET</td>\n",
              "      <td>Narrative Film</td>\n",
              "      <td>Film &amp; Video</td>\n",
              "      <td>USD</td>\n",
              "      <td>2017-11-01</td>\n",
              "      <td>30000.0</td>\n",
              "      <td>2017-09-02 04:43:57</td>\n",
              "      <td>2421.0</td>\n",
              "      <td>0</td>\n",
              "      <td>...</td>\n",
              "      <td>100.0</td>\n",
              "      <td>2421.0</td>\n",
              "      <td>30000.00</td>\n",
              "      <td>2</td>\n",
              "      <td>9</td>\n",
              "      <td>2017</td>\n",
              "      <td>1</td>\n",
              "      <td>11</td>\n",
              "      <td>2017</td>\n",
              "      <td>59.802813</td>\n",
              "    </tr>\n",
              "    <tr>\n",
              "      <th>2</th>\n",
              "      <td>1000004038</td>\n",
              "      <td>Where is Hank?</td>\n",
              "      <td>Narrative Film</td>\n",
              "      <td>Film &amp; Video</td>\n",
              "      <td>USD</td>\n",
              "      <td>2013-02-26</td>\n",
              "      <td>45000.0</td>\n",
              "      <td>2013-01-12 00:20:50</td>\n",
              "      <td>220.0</td>\n",
              "      <td>0</td>\n",
              "      <td>...</td>\n",
              "      <td>220.0</td>\n",
              "      <td>220.0</td>\n",
              "      <td>45000.00</td>\n",
              "      <td>12</td>\n",
              "      <td>1</td>\n",
              "      <td>2013</td>\n",
              "      <td>26</td>\n",
              "      <td>2</td>\n",
              "      <td>2013</td>\n",
              "      <td>44.985532</td>\n",
              "    </tr>\n",
              "    <tr>\n",
              "      <th>3</th>\n",
              "      <td>1000007540</td>\n",
              "      <td>ToshiCapital Rekordz Needs Help to Complete Album</td>\n",
              "      <td>Music</td>\n",
              "      <td>Music</td>\n",
              "      <td>USD</td>\n",
              "      <td>2012-04-16</td>\n",
              "      <td>5000.0</td>\n",
              "      <td>2012-03-17 03:24:11</td>\n",
              "      <td>1.0</td>\n",
              "      <td>0</td>\n",
              "      <td>...</td>\n",
              "      <td>1.0</td>\n",
              "      <td>1.0</td>\n",
              "      <td>5000.00</td>\n",
              "      <td>17</td>\n",
              "      <td>3</td>\n",
              "      <td>2012</td>\n",
              "      <td>16</td>\n",
              "      <td>4</td>\n",
              "      <td>2012</td>\n",
              "      <td>29.858206</td>\n",
              "    </tr>\n",
              "    <tr>\n",
              "      <th>4</th>\n",
              "      <td>1000011046</td>\n",
              "      <td>Community Film Project: The Art of Neighborhoo...</td>\n",
              "      <td>Film &amp; Video</td>\n",
              "      <td>Film &amp; Video</td>\n",
              "      <td>USD</td>\n",
              "      <td>2015-08-29</td>\n",
              "      <td>19500.0</td>\n",
              "      <td>2015-07-04 08:35:03</td>\n",
              "      <td>1283.0</td>\n",
              "      <td>0</td>\n",
              "      <td>...</td>\n",
              "      <td>1283.0</td>\n",
              "      <td>1283.0</td>\n",
              "      <td>19500.00</td>\n",
              "      <td>4</td>\n",
              "      <td>7</td>\n",
              "      <td>2015</td>\n",
              "      <td>29</td>\n",
              "      <td>8</td>\n",
              "      <td>2015</td>\n",
              "      <td>55.642326</td>\n",
              "    </tr>\n",
              "    <tr>\n",
              "      <th>...</th>\n",
              "      <td>...</td>\n",
              "      <td>...</td>\n",
              "      <td>...</td>\n",
              "      <td>...</td>\n",
              "      <td>...</td>\n",
              "      <td>...</td>\n",
              "      <td>...</td>\n",
              "      <td>...</td>\n",
              "      <td>...</td>\n",
              "      <td>...</td>\n",
              "      <td>...</td>\n",
              "      <td>...</td>\n",
              "      <td>...</td>\n",
              "      <td>...</td>\n",
              "      <td>...</td>\n",
              "      <td>...</td>\n",
              "      <td>...</td>\n",
              "      <td>...</td>\n",
              "      <td>...</td>\n",
              "      <td>...</td>\n",
              "      <td>...</td>\n",
              "    </tr>\n",
              "    <tr>\n",
              "      <th>378656</th>\n",
              "      <td>999976400</td>\n",
              "      <td>ChknTruk Nationwide Charity Drive 2014 (Canceled)</td>\n",
              "      <td>Documentary</td>\n",
              "      <td>Film &amp; Video</td>\n",
              "      <td>USD</td>\n",
              "      <td>2014-10-17</td>\n",
              "      <td>50000.0</td>\n",
              "      <td>2014-09-17 02:35:30</td>\n",
              "      <td>25.0</td>\n",
              "      <td>0</td>\n",
              "      <td>...</td>\n",
              "      <td>25.0</td>\n",
              "      <td>25.0</td>\n",
              "      <td>50000.00</td>\n",
              "      <td>17</td>\n",
              "      <td>9</td>\n",
              "      <td>2014</td>\n",
              "      <td>17</td>\n",
              "      <td>10</td>\n",
              "      <td>2014</td>\n",
              "      <td>29.892014</td>\n",
              "    </tr>\n",
              "    <tr>\n",
              "      <th>378657</th>\n",
              "      <td>999977640</td>\n",
              "      <td>The Tribe</td>\n",
              "      <td>Narrative Film</td>\n",
              "      <td>Film &amp; Video</td>\n",
              "      <td>USD</td>\n",
              "      <td>2011-07-19</td>\n",
              "      <td>1500.0</td>\n",
              "      <td>2011-06-22 03:35:14</td>\n",
              "      <td>155.0</td>\n",
              "      <td>0</td>\n",
              "      <td>...</td>\n",
              "      <td>155.0</td>\n",
              "      <td>155.0</td>\n",
              "      <td>1500.00</td>\n",
              "      <td>22</td>\n",
              "      <td>6</td>\n",
              "      <td>2011</td>\n",
              "      <td>19</td>\n",
              "      <td>7</td>\n",
              "      <td>2011</td>\n",
              "      <td>26.850532</td>\n",
              "    </tr>\n",
              "    <tr>\n",
              "      <th>378658</th>\n",
              "      <td>999986353</td>\n",
              "      <td>Walls of Remedy- New lesbian Romantic Comedy f...</td>\n",
              "      <td>Narrative Film</td>\n",
              "      <td>Film &amp; Video</td>\n",
              "      <td>USD</td>\n",
              "      <td>2010-08-16</td>\n",
              "      <td>15000.0</td>\n",
              "      <td>2010-07-01 19:40:30</td>\n",
              "      <td>20.0</td>\n",
              "      <td>0</td>\n",
              "      <td>...</td>\n",
              "      <td>20.0</td>\n",
              "      <td>20.0</td>\n",
              "      <td>15000.00</td>\n",
              "      <td>1</td>\n",
              "      <td>7</td>\n",
              "      <td>2010</td>\n",
              "      <td>16</td>\n",
              "      <td>8</td>\n",
              "      <td>2010</td>\n",
              "      <td>45.180208</td>\n",
              "    </tr>\n",
              "    <tr>\n",
              "      <th>378659</th>\n",
              "      <td>999987933</td>\n",
              "      <td>BioDefense Education Kit</td>\n",
              "      <td>Technology</td>\n",
              "      <td>Technology</td>\n",
              "      <td>USD</td>\n",
              "      <td>2016-02-13</td>\n",
              "      <td>15000.0</td>\n",
              "      <td>2016-01-13 18:13:53</td>\n",
              "      <td>200.0</td>\n",
              "      <td>0</td>\n",
              "      <td>...</td>\n",
              "      <td>200.0</td>\n",
              "      <td>200.0</td>\n",
              "      <td>15000.00</td>\n",
              "      <td>13</td>\n",
              "      <td>1</td>\n",
              "      <td>2016</td>\n",
              "      <td>13</td>\n",
              "      <td>2</td>\n",
              "      <td>2016</td>\n",
              "      <td>30.240359</td>\n",
              "    </tr>\n",
              "    <tr>\n",
              "      <th>378660</th>\n",
              "      <td>999988282</td>\n",
              "      <td>Nou Renmen Ayiti!  We Love Haiti!</td>\n",
              "      <td>Performance Art</td>\n",
              "      <td>Art</td>\n",
              "      <td>USD</td>\n",
              "      <td>2011-08-16</td>\n",
              "      <td>2000.0</td>\n",
              "      <td>2011-07-19 09:07:47</td>\n",
              "      <td>524.0</td>\n",
              "      <td>0</td>\n",
              "      <td>...</td>\n",
              "      <td>524.0</td>\n",
              "      <td>524.0</td>\n",
              "      <td>2000.00</td>\n",
              "      <td>19</td>\n",
              "      <td>7</td>\n",
              "      <td>2011</td>\n",
              "      <td>16</td>\n",
              "      <td>8</td>\n",
              "      <td>2011</td>\n",
              "      <td>27.619595</td>\n",
              "    </tr>\n",
              "  </tbody>\n",
              "</table>\n",
              "<p>374860 rows × 22 columns</p>\n",
              "</div>\n",
              "      <button class=\"colab-df-convert\" onclick=\"convertToInteractive('df-a06ecc66-cc15-4a06-9148-29bdcfb50ce6')\"\n",
              "              title=\"Convert this dataframe to an interactive table.\"\n",
              "              style=\"display:none;\">\n",
              "        \n",
              "  <svg xmlns=\"http://www.w3.org/2000/svg\" height=\"24px\"viewBox=\"0 0 24 24\"\n",
              "       width=\"24px\">\n",
              "    <path d=\"M0 0h24v24H0V0z\" fill=\"none\"/>\n",
              "    <path d=\"M18.56 5.44l.94 2.06.94-2.06 2.06-.94-2.06-.94-.94-2.06-.94 2.06-2.06.94zm-11 1L8.5 8.5l.94-2.06 2.06-.94-2.06-.94L8.5 2.5l-.94 2.06-2.06.94zm10 10l.94 2.06.94-2.06 2.06-.94-2.06-.94-.94-2.06-.94 2.06-2.06.94z\"/><path d=\"M17.41 7.96l-1.37-1.37c-.4-.4-.92-.59-1.43-.59-.52 0-1.04.2-1.43.59L10.3 9.45l-7.72 7.72c-.78.78-.78 2.05 0 2.83L4 21.41c.39.39.9.59 1.41.59.51 0 1.02-.2 1.41-.59l7.78-7.78 2.81-2.81c.8-.78.8-2.07 0-2.86zM5.41 20L4 18.59l7.72-7.72 1.47 1.35L5.41 20z\"/>\n",
              "  </svg>\n",
              "      </button>\n",
              "      \n",
              "  <style>\n",
              "    .colab-df-container {\n",
              "      display:flex;\n",
              "      flex-wrap:wrap;\n",
              "      gap: 12px;\n",
              "    }\n",
              "\n",
              "    .colab-df-convert {\n",
              "      background-color: #E8F0FE;\n",
              "      border: none;\n",
              "      border-radius: 50%;\n",
              "      cursor: pointer;\n",
              "      display: none;\n",
              "      fill: #1967D2;\n",
              "      height: 32px;\n",
              "      padding: 0 0 0 0;\n",
              "      width: 32px;\n",
              "    }\n",
              "\n",
              "    .colab-df-convert:hover {\n",
              "      background-color: #E2EBFA;\n",
              "      box-shadow: 0px 1px 2px rgba(60, 64, 67, 0.3), 0px 1px 3px 1px rgba(60, 64, 67, 0.15);\n",
              "      fill: #174EA6;\n",
              "    }\n",
              "\n",
              "    [theme=dark] .colab-df-convert {\n",
              "      background-color: #3B4455;\n",
              "      fill: #D2E3FC;\n",
              "    }\n",
              "\n",
              "    [theme=dark] .colab-df-convert:hover {\n",
              "      background-color: #434B5C;\n",
              "      box-shadow: 0px 1px 3px 1px rgba(0, 0, 0, 0.15);\n",
              "      filter: drop-shadow(0px 1px 2px rgba(0, 0, 0, 0.3));\n",
              "      fill: #FFFFFF;\n",
              "    }\n",
              "  </style>\n",
              "\n",
              "      <script>\n",
              "        const buttonEl =\n",
              "          document.querySelector('#df-a06ecc66-cc15-4a06-9148-29bdcfb50ce6 button.colab-df-convert');\n",
              "        buttonEl.style.display =\n",
              "          google.colab.kernel.accessAllowed ? 'block' : 'none';\n",
              "\n",
              "        async function convertToInteractive(key) {\n",
              "          const element = document.querySelector('#df-a06ecc66-cc15-4a06-9148-29bdcfb50ce6');\n",
              "          const dataTable =\n",
              "            await google.colab.kernel.invokeFunction('convertToInteractive',\n",
              "                                                     [key], {});\n",
              "          if (!dataTable) return;\n",
              "\n",
              "          const docLinkHtml = 'Like what you see? Visit the ' +\n",
              "            '<a target=\"_blank\" href=https://colab.research.google.com/notebooks/data_table.ipynb>data table notebook</a>'\n",
              "            + ' to learn more about interactive tables.';\n",
              "          element.innerHTML = '';\n",
              "          dataTable['output_type'] = 'display_data';\n",
              "          await google.colab.output.renderOutput(dataTable, element);\n",
              "          const docLink = document.createElement('div');\n",
              "          docLink.innerHTML = docLinkHtml;\n",
              "          element.appendChild(docLink);\n",
              "        }\n",
              "      </script>\n",
              "    </div>\n",
              "  </div>\n",
              "  "
            ]
          },
          "metadata": {},
          "execution_count": 24
        }
      ],
      "source": [
        "financement_df['etat'] = financement_df['etat'].replace(\"successful\",1)\n",
        "financement_df['etat'] = financement_df['etat'].replace(\"live\",1)\n",
        "financement_df['etat'] = financement_df['etat'].replace(\"failed\",0)\n",
        "financement_df['etat'] = financement_df['etat'].replace(\"canceled\",0)\n",
        "financement_df['etat'] = financement_df['etat'].replace(\"suspended\",0)\n",
        "financement_df['etat'] = financement_df['etat'].astype(int)\n",
        "financement_df"
      ],
      "metadata": {
        "id": "C-3VjUu7Ft7k",
        "outputId": "5a037a09-3926-4de1-83da-96c279371f5a",
        "colab": {
          "base_uri": "https://localhost:8080/",
          "height": 974
        }
      }
    },
    {
      "cell_type": "code",
      "execution_count": 25,
      "outputs": [
        {
          "output_type": "stream",
          "name": "stderr",
          "text": [
            "<ipython-input-25-d2e0791bfc93>:4: FutureWarning: The default value of numeric_only in DataFrameGroupBy.sum is deprecated. In a future version, numeric_only will default to False. Either specify numeric_only or select only columns which should be valid for the function.\n",
            "  financement_df_year = financement_df2.groupby(by = 'year_lancement', as_index = False).sum()\n",
            "<ipython-input-25-d2e0791bfc93>:5: FutureWarning: The default value of numeric_only in DataFrameGroupBy.mean is deprecated. In a future version, numeric_only will default to False. Either specify numeric_only or select only columns which should be valid for the function.\n",
            "  financement_df_month = financement_df2.groupby(by = 'month_lancement', as_index = False).mean()\n",
            "<ipython-input-25-d2e0791bfc93>:6: FutureWarning: The default value of numeric_only in DataFrameGroupBy.mean is deprecated. In a future version, numeric_only will default to False. Either specify numeric_only or select only columns which should be valid for the function.\n",
            "  financement_df_day = financement_df2.groupby(by = 'day_lancement', as_index = False).mean()\n"
          ]
        },
        {
          "output_type": "display_data",
          "data": {
            "text/plain": [
              "<Figure size 1600x1600 with 4 Axes>"
            ],
            "image/png": "[encoded data removed]"
          },
          "metadata": {}
        }
      ],
      "source": [
        "financement_df2 = financement_df.copy()\n",
        "financement_df3 = financement_df2[financement_df2['ecart'] < 3000]\n",
        "\n",
        "financement_df_year = financement_df2.groupby(by = 'year_lancement', as_index = False).sum()\n",
        "financement_df_month = financement_df2.groupby(by = 'month_lancement', as_index = False).mean()\n",
        "financement_df_day = financement_df2.groupby(by = 'day_lancement', as_index = False).mean()\n",
        "\n",
        "fig, axes = plt.subplots(2, 2, figsize=(16,16))\n",
        "fig.suptitle('graphiques super beau !')\n",
        "\n",
        "# graph 1\n",
        "sns.barplot(data = financement_df_year, y = 'etat', x = 'year_lancement', ax=axes[0,0])\n",
        "axes[0,0].set_title('Nombre de financement_df acceptés par années')\n",
        "\n",
        "# graph 2\n",
        "sns.barplot(data = financement_df_month, y = 'etat', x='month_lancement', ax=axes[1,0] )\n",
        "axes[1, 0].set_title('Nombre de financement_df acceptés par mois ')\n",
        "\n",
        "# graph 3\n",
        "sns.barplot(data = financement_df_day, y = 'etat', x='day_lancement', ax=axes[0,1] )\n",
        "axes[0, 1].set_title('Nombre de financement_df acceptés par jours')\n",
        "\n",
        "# graph montant moyen des taxes\n",
        "sns.histplot(data = financement_df3, x='ecart', kde=True, stat=\"percent\", ax=axes[1, 1])\n",
        "axes[1, 1].set_title(\"Nombre de financement_df validés par jours d'écarts\");"
      ],
      "metadata": {
        "id": "uxmqrkXhFt7k",
        "outputId": "d9c46b07-2192-4c16-9c9a-c5bb813e478f",
        "colab": {
          "base_uri": "https://localhost:8080/",
          "height": 1000
        }
      }
    },
    {
      "cell_type": "code",
      "execution_count": 26,
      "outputs": [
        {
          "output_type": "execute_result",
          "data": {
            "text/plain": [
              "319002    16738.958333\n",
              "2842      14866.958333\n",
              "48147     14834.958333\n",
              "94579     14760.958333\n",
              "75397     14749.958333\n",
              "              ...     \n",
              "370904        0.093831\n",
              "65731         0.075463\n",
              "182763        0.071493\n",
              "180186        0.035498\n",
              "156430        0.005058\n",
              "Name: ecart, Length: 374860, dtype: float64"
            ]
          },
          "metadata": {},
          "execution_count": 26
        }
      ],
      "source": [
        "financement_df2['ecart'].sort_values(ascending=False)"
      ],
      "metadata": {
        "id": "Z_lyMdx4Ft7l",
        "outputId": "41466155-298d-445b-9240-fc069cb36658",
        "colab": {
          "base_uri": "https://localhost:8080/"
        }
      }
    },
    {
      "cell_type": "markdown",
      "source": [
        "On cherche à prédire la variable Etat\n",
        "On remarque que le la variable 'promesse_usd1' a 3797 NaN. Ces valeurs sont choisies comme données de train pour le futur modèle\n",
        "\n",
        "\n",
        "\n",
        "\n",
        "\n",
        "Pour commencer, créer un dataframe contenant les variables quantitatives\n",
        "On va faire des dummies dee variables 'categorie', 'categorie_principale', 'monnaie' et 'pays'"
      ],
      "metadata": {
        "collapsed": false,
        "id": "NaUcA4F8Ft7l"
      }
    },
    {
      "cell_type": "code",
      "execution_count": 27,
      "outputs": [],
      "source": [
        "financement_df_dum = pd.get_dummies(financement_df, columns=['categorie_principale', 'monaie', 'pays'])\n",
        "financement_df_quant = financement_df.select_dtypes(include=['float64'])\n",
        "\n",
        "col_financement_df = list(financement_df.columns)\n",
        "remove_col = ['categorie_principale', 'monaie', 'pays']\n",
        "list_col_to_remove = [x for x in col_financement_df if x not in remove_col]\n",
        "financement_df_dum = financement_df_dum.drop(list_col_to_remove, axis= 1)\n",
        "\n",
        "data = pd.concat([financement_df_dum, financement_df_quant], axis = 1)"
      ],
      "metadata": {
        "id": "DU3xHTf5Ft7l"
      }
    },
    {
      "cell_type": "code",
      "execution_count": 28,
      "outputs": [],
      "source": [
        "from sklearn.model_selection import train_test_split\n",
        "\n",
        "target = financement_df['etat']\n",
        "\n",
        "X_train, X_test, y_train, y_test = train_test_split(data, target, test_size=0.2, random_state=42)"
      ],
      "metadata": {
        "id": "QDIK_Zy0Ft7l"
      }
    },
    {
      "cell_type": "markdown",
      "source": [
        "# Filtration"
      ],
      "metadata": {
        "collapsed": false,
        "id": "Uo0tLuTxFt7m"
      }
    },
    {
      "cell_type": "code",
      "execution_count": 29,
      "outputs": [
        {
          "output_type": "display_data",
          "data": {
            "text/plain": [
              "<Figure size 1600x200 with 1 Axes>"
            ],
            "image/png": "[encoded data removed]"
          },
          "metadata": {}
        }
      ],
      "source": [
        "from sklearn.feature_selection import VarianceThreshold\n",
        "import matplotlib.pyplot as plt\n",
        "\n",
        "sel = VarianceThreshold(threshold=1e-6)\n",
        "sel.fit(X_train)\n",
        "mask = sel.get_support()\n",
        "\n",
        "plt.matshow(mask.reshape(1,-1), cmap = 'gray_r')\n",
        "plt.xlabel('Feature selection')\n",
        "plt.yticks([]);"
      ],
      "metadata": {
        "id": "H5kYjssKFt7m",
        "colab": {
          "base_uri": "https://localhost:8080/",
          "height": 106
        },
        "outputId": "1f84ea87-2de2-4bde-c0b2-984eb2f05113"
      }
    }
  ],
  "metadata": {
    "kernelspec": {
      "display_name": "Python 3",
      "language": "python",
      "name": "python3"
    },
    "language_info": {
      "codemirror_mode": {
        "name": "ipython",
        "version": 2
      },
      "file_extension": ".py",
      "mimetype": "text/x-python",
      "name": "python",
      "nbconvert_exporter": "python",
      "pygments_lexer": "ipython2",
      "version": "2.7.6"
    },
    "colab": {
      "provenance": [],
      "include_colab_link": true
    }
  },
  "nbformat": 4,
  "nbformat_minor": 0
}