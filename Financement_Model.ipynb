{
  "nbformat": 4,
  "nbformat_minor": 0,
  "metadata": {
    "colab": {
      "provenance": [],
      "authorship_tag": "ABX9TyNuXMcqQB2BXGjt6s5KY1AI"
    },
    "kernelspec": {
      "name": "python3",
      "display_name": "Python 3"
    },
    "language_info": {
      "name": "python"
    }
  },
  "cells": [
    {
      "cell_type": "markdown",
      "source": [
        "# Installation des packages"
      ],
      "metadata": {
        "id": "s1HNUJGVuTNw"
      }
    },
    {
      "cell_type": "code",
      "source": [
        "!pip install pycountry_convert"
      ],
      "metadata": {
        "id": "aVoiFalmsgl1"
      },
      "execution_count": null,
      "outputs": []
    },
    {
      "cell_type": "code",
      "source": [],
      "metadata": {
        "id": "bcUoioxquGnY"
      },
      "execution_count": null,
      "outputs": []
    },
    {
      "cell_type": "markdown",
      "source": [
        "# Importation des packages\n",
        "\n"
      ],
      "metadata": {
        "id": "poQVg_FAuHFv"
      }
    },
    {
      "cell_type": "code",
      "source": [
        "import pandas as pd\n",
        "import pycountry_convert as pc\n",
        "\n",
        "import seaborn as sns\n",
        "import matplotlib.pyplot as plt\n",
        "\n",
        "from sklearn.model_selection import train_test_split\n",
        "from sklearn.linear_model import LogisticRegression # Importer les modèles ici\n",
        "from sklearn.preprocessing import StandardScaler\n",
        "from sklearn.metrics import confusion_matrix, classification_report"
      ],
      "metadata": {
        "id": "TNDrt_4BsF8p"
      },
      "execution_count": 36,
      "outputs": []
    },
    {
      "cell_type": "code",
      "source": [],
      "metadata": {
        "id": "tjAg9bNuuQzH"
      },
      "execution_count": null,
      "outputs": []
    },
    {
      "cell_type": "markdown",
      "source": [
        "# Fonctions\n",
        "\n"
      ],
      "metadata": {
        "id": "wzCclmVruJoL"
      }
    },
    {
      "cell_type": "code",
      "source": [
        "def split_date(df, date_column):\n",
        "  \"\"\"\n",
        "  Fonction pour séparer une colonne de dates en jours, mois, années et trimestres.\n",
        "\n",
        "  Paramètres :\n",
        "  - df (pandas.DataFrame) : le DataFrame contenant la colonne de dates à séparer.\n",
        "  - date_column (str) : le nom de la colonne de dates à séparer.\n",
        "\n",
        "  Retourne :\n",
        "  - pandas.Series : la colonne des jours.\n",
        "  - pandas.Series : la colonne des mois.\n",
        "  - pandas.Series : la colonne des années.\n",
        "  - pandas.Series : la colonne des trimestres.\n",
        "  \"\"\"\n",
        "  return  df[date_column].dt.day, df[date_column].dt.month, df[date_column].dt.year, df[date_column].dt.quarter\n",
        "\n",
        "\n",
        "def get_continent(iso_code):\n",
        "  \"\"\"\n",
        "  Fonction pour récupérer le continent à partir du code ISO du pays.\n",
        "\n",
        "  Paramètres :\n",
        "  - iso_code (str) : le code ISO à deux lettres du pays.\n",
        "\n",
        "  Retourne :\n",
        "  - str : le code du continent (AF, AS, EU, NA, OC, SA, AN) si le code ISO du pays est reconnu, \"Inconnue\" sinon.\n",
        "  \"\"\"\n",
        "\n",
        "  try:\n",
        "      return pc.country_alpha2_to_continent_code(iso_code)\n",
        "  except:\n",
        "      return \"Inconnue\""
      ],
      "metadata": {
        "id": "lQVYBrZbsQmy"
      },
      "execution_count": 6,
      "outputs": []
    },
    {
      "cell_type": "code",
      "source": [
        "def load_data():\n",
        "  \"\"\"\n",
        "    Fonction permettant de charger les données du fichier financement.csv, de nettoyer et de faire du feature engineering\n",
        "  \"\"\"\n",
        "\n",
        "  financement_df = pd.read_csv(\"financement.csv\", sep=\",\", index_col=0) # Lecture du fichier csv\n",
        "  financement_df = financement_df[~financement_df[\"etat\"].isin([\"undefined\", \"live\", \"suspended\"])] # On exclue les projets avec un état undefined, live ou suspended\n",
        "\n",
        "  # On ajoute également une colonne etat_int avec une valeur de 0 pour les projets ayant un état failed ou canceled, et 1 pour les projets ayant un état successful\n",
        "  financement_df[\"etat_int\"] = financement_df[\"etat\"].map({'failed': 0, 'canceled': 0, 'successful': 1})\n",
        "\n",
        "  # On convertit les colonnes lancement et date_butoire au format datetime, on calcule la différence entre les deux en jours, et on supprime les projets dont la durée est supérieure à 1000 jours\n",
        "  financement_df[\"lancement\"] = pd.to_datetime(financement_df[\"lancement\"])\n",
        "  financement_df[\"date_butoire\"] = pd.to_datetime(financement_df[\"date_butoire\"])\n",
        "  financement_df['ecart_jours'] = (financement_df['date_butoire'] - financement_df['lancement']).dt.days\n",
        "  financement_df = financement_df[financement_df[\"ecart_jours\"] < 1000]\n",
        "\n",
        "  # On utilise la fonction split_date pour séparer les colonnes lancement et date_butoire en jours, mois, années et trimestres\n",
        "  financement_df[\"lancement_day\"], financement_df[\"lancement_month\"], financement_df[\"lancement_year\"], financement_df[\"lancement_quarter\"] = split_date(financement_df, \"lancement\")\n",
        "  financement_df[\"date_butoire_day\"], financement_df[\"date_butoire_month\"], financement_df[\"date_butoire_year\"], financement_df[\"date_butoire_quarter\"] = split_date(financement_df, \"date_butoire\")\n",
        "\n",
        "  # On ajoute une colonne continent en utilisant la fonction get_continent pour récupérer le continent à partir du code ISO du pays, et on supprime les projets avec continent \"Inconnue\"\n",
        "  financement_df['continent'] = financement_df['pays'].apply(get_continent)\n",
        "  financement_df = financement_df[financement_df[\"continent\"] != \"Inconnue\"]\n",
        "  financement_df[\"continent_int\"] = financement_df[\"continent\"].map({'NA': 0, 'EU': 1, 'OC': 2, 'AS': 3}) # On ajoute une colonne continent_int avec une valeur numérique pour chaque continent\n",
        "\n",
        "  # On utilise la fonction pd.get_dummies pour créer des colonnes catégorie pour chaque catégorie principale du projet\n",
        "  financement_df = pd.concat([financement_df, pd.get_dummies(financement_df['categorie_principale'], prefix='categorie')], axis=1)\n",
        "\n",
        "  return financement_df"
      ],
      "metadata": {
        "id": "p_2sr9hgsMRp"
      },
      "execution_count": 7,
      "outputs": []
    },
    {
      "cell_type": "code",
      "source": [
        "# Vous pouvez ajouter des filtres ou des variables dans la fonction load_data()"
      ],
      "metadata": {
        "id": "fbLhN58A0s1S"
      },
      "execution_count": null,
      "outputs": []
    },
    {
      "cell_type": "code",
      "source": [],
      "metadata": {
        "id": "VFn4aG5quc84"
      },
      "execution_count": null,
      "outputs": []
    },
    {
      "cell_type": "markdown",
      "source": [
        "# Chargement des données\n",
        "\n",
        "*Ne pas oublier de mettre le fichier financement.csv à la racine*"
      ],
      "metadata": {
        "id": "-xXLogf_ue4w"
      }
    },
    {
      "cell_type": "code",
      "source": [
        "financement_df = load_data()"
      ],
      "metadata": {
        "id": "jNtrVn1ks7Ng"
      },
      "execution_count": null,
      "outputs": []
    },
    {
      "cell_type": "code",
      "source": [],
      "metadata": {
        "id": "ny8Wqcpvuidh"
      },
      "execution_count": null,
      "outputs": []
    },
    {
      "cell_type": "markdown",
      "source": [
        "# Modèle"
      ],
      "metadata": {
        "id": "aXqk6QcOuihL"
      }
    },
    {
      "cell_type": "code",
      "source": [
        "# On crée une liste avec les noms de colonnes que l'on souhaite conserver pour l'entraînement du modèle\n",
        "\n",
        "# Ici je garde que continent_int et ecart_jours + toutes les colonnes crées lors de la dummification de la colonne categorie_principale\n",
        "# A vous de choisir les colonnes que vous souhaitez conserver pour l'entraînement du modèle\n",
        "X_columns = [\"continent_int\", \"ecart_jours\"] + [col for col in financement_df.columns if col.startswith('categorie_') and col not in ['categorie', 'categorie_principale']]"
      ],
      "metadata": {
        "id": "NJiDNEXeuvz0"
      },
      "execution_count": 10,
      "outputs": []
    },
    {
      "cell_type": "code",
      "source": [
        "# On sépare les features et la variable cible en deux DataFrames X et y\n",
        "X = financement_df[X_columns]\n",
        "y = financement_df['etat_int']\n",
        "\n",
        "# On utilise la fonction train_test_split de scikit-learn pour diviser les données en ensembles d'entraînement et de test\n",
        "X_train, X_test, y_train, y_test = train_test_split(X, y, test_size=0.2, random_state = 42)\n",
        "\n",
        "# On utilise StandardScaler pour centrer et réduire les données d'entraînement, puis appliquer la même transformation aux données de test\n",
        "scaler = StandardScaler()\n",
        "X_train = scaler.fit_transform(X_train)\n",
        "X_test = scaler.transform(X_test)\n",
        "\n",
        "# On crée un modèle de régression logistique et on l'entraîne sur les données d'entraînement normalisées\n",
        "model = LogisticRegression() # Ici j'utilise une LogisticRegression, à vous de tester d'autres modèles (pensez à importer le modèle plus haut !)\n",
        "model.fit(X_train, y_train)\n",
        "\n",
        "y_pred = model.predict(X_test) # On utilise le modèle pour prédire la variable cible y_test à partir des features X_test"
      ],
      "metadata": {
        "id": "Zfb6Lv_Ru2tD"
      },
      "execution_count": 34,
      "outputs": []
    },
    {
      "cell_type": "code",
      "source": [
        "# On calcule la matrice de confusion pour évaluer les performances du modèle\n",
        "conf_matrix = confusion_matrix(y_test, y_pred)\n",
        "\n",
        "# On affiche la matrice de confusion sous forme de heatmap\n",
        "sns.heatmap(conf_matrix, annot=True, fmt='d', cmap='Blues')\n",
        "plt.title(\"Matrice de confusion\")\n",
        "plt.xlabel(\"Prédiction\")\n",
        "plt.ylabel(\"Réel\")\n",
        "plt.show()"
      ],
      "metadata": {
        "colab": {
          "base_uri": "https://localhost:8080/",
          "height": 472
        },
        "id": "R0t-CO34vH-u",
        "outputId": "b91a6ea9-8435-4815-a9ae-4bb89b54eaaf"
      },
      "execution_count": 19,
      "outputs": [
        {
          "output_type": "display_data",
          "data": {
            "text/plain": [
              "<Figure size 640x480 with 2 Axes>"
            ],
            "image/png": "[encoded data removed]"
          },
          "metadata": {}
        }
      ]
    },
    {
      "cell_type": "code",
      "source": [
        "# Exemple d'interprétation :\n",
        "\n",
        "# La classe 0 (projets ayant échoué) est représentée par la première colonne et la première ligne de la matrice. Il y a 30962 échantillons de cette classe qui ont été prédits correctement (vrais négatifs) et 3640 qui ont été prédits incorrectement (faux positifs).\n",
        "# La classe 1 (projets ayant réussi) est représentée par la deuxième colonne et la deuxième ligne de la matrice. Il y a 4695 échantillons de cette classe qui ont été prédits correctement (vrais positifs) et 15039 qui ont été prédits incorrectement (faux négatifs)."
      ],
      "metadata": {
        "id": "bGApRyxRzJ2p"
      },
      "execution_count": 32,
      "outputs": []
    },
    {
      "cell_type": "code",
      "source": [],
      "metadata": {
        "id": "D54cHYZTzeta"
      },
      "execution_count": null,
      "outputs": []
    },
    {
      "cell_type": "code",
      "source": [
        "class_report = classification_report(y_test, y_pred) # On affiche le classification report pour avoir un aperçu détaillé des performances du modèle par classe.\n",
        "print(class_report)"
      ],
      "metadata": {
        "colab": {
          "base_uri": "https://localhost:8080/"
        },
        "id": "VD54vQn8xznU",
        "outputId": "9c4aae21-aa92-4dc8-9982-7e19967ba53b"
      },
      "execution_count": 35,
      "outputs": [
        {
          "output_type": "stream",
          "name": "stdout",
          "text": [
            "              precision    recall  f1-score   support\n",
            "\n",
            "           0       0.67      0.89      0.77     34602\n",
            "           1       0.56      0.24      0.33     19734\n",
            "\n",
            "    accuracy                           0.66     54336\n",
            "   macro avg       0.62      0.57      0.55     54336\n",
            "weighted avg       0.63      0.66      0.61     54336\n",
            "\n"
          ]
        }
      ]
    },
    {
      "cell_type": "code",
      "source": [
        "# Exemple d'interprétation :\n",
        "\n",
        "# Le modèle a une précision de 67% pour la classe 0 (projets ayant échoué) et 56% pour la classe 1 (projets ayant réussi).\n",
        "# Le modèle a un rappel (taux de vrais positifs) de 89% pour la classe 0 et 24% pour la classe 1. Cela signifie que le modèle identifie bien la majorité des projets qui échouent, mais qu'il manque de sensibilité pour détecter les projets qui réussissent.\n",
        "# Le f1-score du modèle est de 0.77 pour la classe 0 et de 0.33 pour la classe 1, ce qui montre que le modèle est plus performant pour la prédiction des projets qui échouent.\n",
        "# L'accuracy score du modèle est de 66%, ce qui est plutôt modéré. Cela signifie que le modèle prédit correctement la classe de 66% des projets de l'ensemble de test."
      ],
      "metadata": {
        "id": "H-Ynos5Nx9RN"
      },
      "execution_count": 33,
      "outputs": []
    }
  ]
}